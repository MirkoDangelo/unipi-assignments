{
 "cells": [
  {
   "cell_type": "markdown",
   "metadata": {},
   "source": [
    "# Assignment 1\n",
    "\n",
    "DATASET (MNIST): http://yann.lecun.com/exdb/mnist/\n",
    "\n",
    "Train 1 denoising and 1 contractive autoencoder on the MNIST dataset. It is up to you to decide how many layers and neurons in each layer and how many layers you want in the deep autoencoder. Show an accuracy comparison between the different autoencoders.\n",
    "\n",
    "Then, experiment with what happens if you feed the autoencoders with a random noise image and then you apply the iterative gradient ascent process described in the lecture to see if the reconstruction converges to the data manifold. Confront the reconstructions created by the 2 different models and comment on the results."
   ]
  },
  {
   "cell_type": "code",
   "execution_count": 44,
   "metadata": {},
   "outputs": [],
   "source": [
    "import torch\n",
    "import itertools as it\n",
    "\n",
    "from torch import nn\n",
    "\n",
    "class AutoEncoder(nn.Module):\n",
    "    def __init__(self,encoder_sizes,decoder_sizes):\n",
    "        super(AutoEncoder, self).__init__()\n",
    "        encoder_layers=[]\n",
    "        for sx,dx in it.pairwise(encoder_sizes[:-1]):\n",
    "            encoder_layers.append(nn.Linear(sx,dx))\n",
    "            encoder_layers.append(nn.ReLU())\n",
    "        encoder_layers.append(nn.Linear(encoder_sizes[-2],encoder_sizes[-1]))\n",
    "        decoder_layers=[]\n",
    "        for sx,dx in it.pairwise(decoder_sizes):\n",
    "            decoder_layers.append(nn.Linear(sx,dx))\n",
    "            decoder_layers.append(nn.ReLU())\n",
    "        decoder_layers.append(nn.Sigmoid())\n",
    "\n",
    "        self.encoder = nn.Sequential(\n",
    "            *encoder_layers\n",
    "        )\n",
    "        self.decoder = nn.Sequential(\n",
    "            *decoder_layers\n",
    "        )\n",
    "\n",
    "    def forward(self, x):\n",
    "        encoded = self.encoder(x)\n",
    "        encoded.retain_grad()\n",
    "        decoded = self.decoder(encoded)\n",
    "        return encoded, decoded"
   ]
  },
  {
   "cell_type": "code",
   "execution_count": 45,
   "metadata": {},
   "outputs": [],
   "source": [
    "\n",
    "import torchvision\n",
    "import torchvision.transforms as transforms\n",
    "dataset=torchvision.datasets.MNIST(root='./data', train=True, transform=transforms.ToTensor(), download=True)\n"
   ]
  },
  {
   "cell_type": "code",
   "execution_count": 46,
   "metadata": {},
   "outputs": [
    {
     "name": "stdout",
     "output_type": "stream",
     "text": [
      "epoch [1/20], loss:0.2297\n",
      "epoch [2/20], loss:0.2284\n",
      "epoch [3/20], loss:0.2279\n",
      "epoch [4/20], loss:0.2275\n",
      "epoch [5/20], loss:0.2273\n",
      "epoch [6/20], loss:0.2269\n",
      "epoch [7/20], loss:0.2269\n",
      "epoch [8/20], loss:0.2268\n",
      "epoch [9/20], loss:0.2268\n",
      "epoch [10/20], loss:0.2268\n",
      "epoch [11/20], loss:0.2267\n",
      "epoch [12/20], loss:0.2268\n",
      "epoch [13/20], loss:0.2266\n",
      "epoch [14/20], loss:0.2267\n",
      "epoch [15/20], loss:0.2266\n",
      "epoch [16/20], loss:0.2266\n",
      "epoch [17/20], loss:0.2266\n",
      "epoch [18/20], loss:0.2266\n",
      "epoch [19/20], loss:0.2266\n",
      "epoch [20/20], loss:0.2266\n"
     ]
    }
   ],
   "source": [
    "import matplotlib.pyplot as plt \n",
    "\n",
    "DEVICE = torch.device(\"cuda\" if torch.cuda.is_available() else \"cpu\")\n",
    "\n",
    "\n",
    "\n",
    "def train_denoising_ae(ae,data,n_epochs=10):\n",
    "    criterion = nn.MSELoss()\n",
    "    optimizer = torch.optim.SGD(ae.parameters(), lr=0.001)\n",
    "    for epoch in range(n_epochs):\n",
    "        for sample in data:\n",
    "            img, _ = sample\n",
    "            img_noisy = img + 0.5 * torch.randn(img.size())\n",
    "            img_noisy = img_noisy.view(-1, 28*28)\n",
    "            img = img.view(-1, 28*28)\n",
    "            optimizer.zero_grad()\n",
    "\n",
    "            img=img.to(DEVICE)\n",
    "            img_noisy=img_noisy.to(DEVICE)\n",
    "            _, output = ae(img_noisy)\n",
    "            loss = criterion(output, img)\n",
    "            loss.backward()\n",
    "            optimizer.step()\n",
    "        print(f'epoch [{epoch + 1}/{n_epochs}], loss:{loss.item():.4f}')\n",
    "dae=AutoEncoder([28*28, 128, 64], [64, 128, 28*28]).to(DEVICE)\n",
    "train_denoising_ae(dae,dataset,20)"
   ]
  },
  {
   "cell_type": "code",
   "execution_count": 48,
   "metadata": {},
   "outputs": [
    {
     "name": "stdout",
     "output_type": "stream",
     "text": [
      "epoch [1/20], loss:0.2295\n",
      "epoch [2/20], loss:0.2281\n",
      "epoch [3/20], loss:0.2274\n",
      "epoch [4/20], loss:0.2271\n",
      "epoch [5/20], loss:0.2270\n",
      "epoch [6/20], loss:0.2269\n",
      "epoch [7/20], loss:0.2268\n",
      "epoch [8/20], loss:0.2268\n",
      "epoch [9/20], loss:0.2268\n",
      "epoch [10/20], loss:0.2267\n",
      "epoch [11/20], loss:0.2267\n",
      "epoch [12/20], loss:0.2267\n",
      "epoch [13/20], loss:0.2267\n",
      "epoch [14/20], loss:0.2267\n",
      "epoch [15/20], loss:0.2266\n",
      "epoch [16/20], loss:0.2266\n",
      "epoch [17/20], loss:0.2266\n",
      "epoch [18/20], loss:0.2266\n",
      "epoch [19/20], loss:0.2266\n",
      "epoch [20/20], loss:0.2266\n"
     ]
    }
   ],
   "source": [
    "def jacobian_penalty_term(hidden, inputs):\n",
    "    jacobian = torch.autograd.grad(outputs=hidden, inputs=inputs,\n",
    "                                   grad_outputs=torch.ones_like(hidden),\n",
    "                                   create_graph=True, retain_graph=True, only_inputs=True)[0]\n",
    "    jacobian = jacobian.view(jacobian.size(0), -1)\n",
    "    penalty_term = torch.norm(jacobian, p=2, dim=1)\n",
    "    return penalty_term\n",
    "\n",
    "def train_contractive_ae(ae,data,n_epochs=10,contractive_penalty=1e-4):\n",
    "    criterion = nn.MSELoss()\n",
    "    optimizer = torch.optim.SGD(ae.parameters(), lr=0.001)\n",
    "    for epoch in range(n_epochs):\n",
    "        for sample in data:\n",
    "            img, _ = sample\n",
    "            img = img.view(-1, 28*28).to(DEVICE)\n",
    "            img.requires_grad = True\n",
    "            optimizer.zero_grad()\n",
    "            hidden, output = ae(img)\n",
    "            loss = criterion(output, img) + contractive_penalty * jacobian_penalty_term(hidden, img)\n",
    "            loss.backward()\n",
    "            optimizer.step()\n",
    "        print(f'epoch [{epoch + 1}/{n_epochs}], loss:{loss.item():.4f}')\n",
    "#needed in order to compute the jacobian\n",
    "dataset.requires_grad = True\n",
    "cae=AutoEncoder([28*28, 128, 64], [64, 128, 28*28]).to(DEVICE)\n",
    "train_contractive_ae(cae,dataset,20)"
   ]
  },
  {
   "cell_type": "code",
   "execution_count": 82,
   "metadata": {},
   "outputs": [],
   "source": [
    "def generate_data_point(model, input_shape, num_iterations=100, step_size=1e-2):\n",
    "    # Start with a random noise\n",
    "    noise = torch.randn(input_shape).requires_grad_(True).to(DEVICE)\n",
    "    noise.retain_grad()\n",
    "    for i in range(num_iterations):\n",
    "        # Forward pass through the encoder\n",
    "        hidden = model.encoder(noise)\n",
    "\n",
    "        # Calculate the gradient of the hidden activations with respect to the noise\n",
    "        hidden.backward(torch.ones_like(hidden))\n",
    "        # Perform gradient ascent\n",
    "        with torch.no_grad():\n",
    "            noise += step_size * noise.grad\n",
    "\n",
    "        # Reset gradients\n",
    "        model.zero_grad()\n",
    "        noise.grad.zero_()\n",
    "\n",
    "    # Pass the resulting activations through the decoder\n",
    "    with torch.no_grad():\n",
    "        new_data_point = model.decoder(hidden)\n",
    "\n",
    "    return new_data_point"
   ]
  },
  {
   "cell_type": "code",
   "execution_count": 85,
   "metadata": {},
   "outputs": [
    {
     "data": {
      "text/plain": [
       "<matplotlib.image.AxesImage at 0x1c62674e000>"
      ]
     },
     "execution_count": 85,
     "metadata": {},
     "output_type": "execute_result"
    },
    {
     "data": {
      "image/png": "[encoded data removed]",
      "text/plain": [
       "<Figure size 480x480 with 1 Axes>"
      ]
     },
     "metadata": {},
     "output_type": "display_data"
    }
   ],
   "source": [
    "plt.matshow(generate_data_point(cae,28*28,10000,1e-3).view(28, 28).detach().cpu().numpy())"
   ]
  }
 ],
 "metadata": {
  "kernelspec": {
   "display_name": "Python 3",
   "language": "python",
   "name": "python3"
  },
  "language_info": {
   "codemirror_mode": {
    "name": "ipython",
    "version": 3
   },
   "file_extension": ".py",
   "mimetype": "text/x-python",
   "name": "python",
   "nbconvert_exporter": "python",
   "pygments_lexer": "ipython3",
   "version": "3.12.3"
  }
 },
 "nbformat": 4,
 "nbformat_minor": 2
}
