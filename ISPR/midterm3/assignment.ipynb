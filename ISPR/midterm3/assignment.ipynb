{
 "cells": [
  {
   "cell_type": "markdown",
   "metadata": {},
   "source": [
    "# Assignment 1\n",
    "\n",
    "DATASET (MNIST): http://yann.lecun.com/exdb/mnist/\n",
    "\n",
    "Train 1 denoising and 1 contractive autoencoder on the MNIST dataset. It is up to you to decide how many layers and neurons in each layer and how many layers you want in the deep autoencoder. Show an accuracy comparison between the different autoencoders.\n",
    "\n",
    "Then, experiment with what happens if you feed the autoencoders with a random noise image and then you apply the iterative gradient ascent process described in the lecture to see if the reconstruction converges to the data manifold. Confront the reconstructions created by the 2 different models and comment on the results."
   ]
  },
  {
   "cell_type": "code",
   "execution_count": 1,
   "metadata": {},
   "outputs": [],
   "source": [
    "import torch\n",
    "import itertools as it\n",
    "\n",
    "from torch import nn\n",
    "\n",
    "class AutoEncoder(nn.Module):\n",
    "    def __init__(self,encoder_sizes,decoder_sizes):\n",
    "        super(AutoEncoder, self).__init__()\n",
    "        encoder_layers=[]\n",
    "        for sx,dx in it.pairwise(encoder_sizes):\n",
    "            encoder_layers.append(nn.Linear(sx,dx))\n",
    "            encoder_layers.append(nn.ReLU())\n",
    "        decoder_layers=[]\n",
    "        for sx,dx in it.pairwise(decoder_sizes[:-1]):\n",
    "            decoder_layers.append(nn.Linear(sx,dx))\n",
    "            decoder_layers.append(nn.ReLU())\n",
    "        decoder_layers.append(nn.Linear(decoder_sizes[-2],decoder_sizes[-1]))\n",
    "        decoder_layers.append(nn.Sigmoid())\n",
    "\n",
    "        self.encoder = nn.Sequential(\n",
    "            *encoder_layers\n",
    "        )\n",
    "        self.decoder = nn.Sequential(\n",
    "            *decoder_layers\n",
    "        )\n",
    "\n",
    "    def forward(self, x):\n",
    "        encoded = self.encoder(x)\n",
    "        encoded.retain_grad()\n",
    "        decoded = self.decoder(encoded)\n",
    "        return encoded, decoded"
   ]
  },
  {
   "cell_type": "code",
   "execution_count": null,
   "metadata": {},
   "outputs": [],
   "source": []
  },
  {
   "cell_type": "code",
   "execution_count": 2,
   "metadata": {},
   "outputs": [],
   "source": [
    "\n",
    "import torchvision\n",
    "import torchvision.transforms as transforms\n",
    "dataset=torchvision.datasets.MNIST(root='./data', train=True, transform=transforms.ToTensor(), download=True)\n",
    "dataset.requires_grad=True\n",
    "dataloader = torch.utils.data.DataLoader(dataset, batch_size=128, shuffle=False)\n",
    "\n",
    "\n",
    "DEVICE = torch.device(\"cuda\" if torch.cuda.is_available() else \"cpu\")"
   ]
  },
  {
   "cell_type": "code",
   "execution_count": 3,
   "metadata": {},
   "outputs": [
    {
     "name": "stdout",
     "output_type": "stream",
     "text": [
      "epoch [1/20], loss:0.0432\n"
     ]
    },
    {
     "ename": "KeyboardInterrupt",
     "evalue": "",
     "output_type": "error",
     "traceback": [
      "\u001b[1;31m---------------------------------------------------------------------------\u001b[0m",
      "\u001b[1;31mKeyboardInterrupt\u001b[0m                         Traceback (most recent call last)",
      "Cell \u001b[1;32mIn[3], line 26\u001b[0m\n\u001b[0;32m     24\u001b[0m         \u001b[38;5;28mprint\u001b[39m(\u001b[38;5;124mf\u001b[39m\u001b[38;5;124m'\u001b[39m\u001b[38;5;124mepoch [\u001b[39m\u001b[38;5;132;01m{\u001b[39;00mepoch\u001b[38;5;250m \u001b[39m\u001b[38;5;241m+\u001b[39m\u001b[38;5;250m \u001b[39m\u001b[38;5;241m1\u001b[39m\u001b[38;5;132;01m}\u001b[39;00m\u001b[38;5;124m/\u001b[39m\u001b[38;5;132;01m{\u001b[39;00mn_epochs\u001b[38;5;132;01m}\u001b[39;00m\u001b[38;5;124m], loss:\u001b[39m\u001b[38;5;132;01m{\u001b[39;00mMSE_loss\u001b[38;5;241m.\u001b[39mitem()\u001b[38;5;132;01m:\u001b[39;00m\u001b[38;5;124m.4f\u001b[39m\u001b[38;5;132;01m}\u001b[39;00m\u001b[38;5;124m'\u001b[39m)\n\u001b[0;32m     25\u001b[0m dae\u001b[38;5;241m=\u001b[39mAutoEncoder([\u001b[38;5;241m28\u001b[39m\u001b[38;5;241m*\u001b[39m\u001b[38;5;241m28\u001b[39m, \u001b[38;5;241m256\u001b[39m, \u001b[38;5;241m64\u001b[39m], [\u001b[38;5;241m64\u001b[39m,\u001b[38;5;241m256\u001b[39m, \u001b[38;5;241m28\u001b[39m\u001b[38;5;241m*\u001b[39m\u001b[38;5;241m28\u001b[39m])\u001b[38;5;241m.\u001b[39mto(DEVICE)\n\u001b[1;32m---> 26\u001b[0m \u001b[43mtrain_denoising_ae\u001b[49m\u001b[43m(\u001b[49m\u001b[43mdae\u001b[49m\u001b[43m,\u001b[49m\u001b[43mdataloader\u001b[49m\u001b[43m,\u001b[49m\u001b[38;5;241;43m20\u001b[39;49m\u001b[43m)\u001b[49m\n",
      "Cell \u001b[1;32mIn[3], line 10\u001b[0m, in \u001b[0;36mtrain_denoising_ae\u001b[1;34m(ae, data, n_epochs)\u001b[0m\n\u001b[0;32m      8\u001b[0m optimizer \u001b[38;5;241m=\u001b[39m torch\u001b[38;5;241m.\u001b[39moptim\u001b[38;5;241m.\u001b[39mAdam(ae\u001b[38;5;241m.\u001b[39mparameters(), lr\u001b[38;5;241m=\u001b[39m\u001b[38;5;241m0.001\u001b[39m)\n\u001b[0;32m      9\u001b[0m \u001b[38;5;28;01mfor\u001b[39;00m epoch \u001b[38;5;129;01min\u001b[39;00m \u001b[38;5;28mrange\u001b[39m(n_epochs):\n\u001b[1;32m---> 10\u001b[0m \u001b[43m    \u001b[49m\u001b[38;5;28;43;01mfor\u001b[39;49;00m\u001b[43m \u001b[49m\u001b[43msample\u001b[49m\u001b[43m \u001b[49m\u001b[38;5;129;43;01min\u001b[39;49;00m\u001b[43m \u001b[49m\u001b[43mdata\u001b[49m\u001b[43m:\u001b[49m\n\u001b[0;32m     11\u001b[0m \u001b[43m        \u001b[49m\u001b[43mimg\u001b[49m\u001b[43m,\u001b[49m\u001b[43m \u001b[49m\u001b[43m_\u001b[49m\u001b[43m \u001b[49m\u001b[38;5;241;43m=\u001b[39;49m\u001b[43m \u001b[49m\u001b[43msample\u001b[49m\n\u001b[0;32m     12\u001b[0m \u001b[43m        \u001b[49m\u001b[43mimg_noisy\u001b[49m\u001b[43m \u001b[49m\u001b[38;5;241;43m=\u001b[39;49m\u001b[43m \u001b[49m\u001b[43mimg\u001b[49m\u001b[43m \u001b[49m\u001b[38;5;241;43m+\u001b[39;49m\u001b[43m \u001b[49m\u001b[43mtorch\u001b[49m\u001b[38;5;241;43m.\u001b[39;49m\u001b[43mrandn\u001b[49m\u001b[43m(\u001b[49m\u001b[43mimg\u001b[49m\u001b[38;5;241;43m.\u001b[39;49m\u001b[43msize\u001b[49m\u001b[43m(\u001b[49m\u001b[43m)\u001b[49m\u001b[43m)\u001b[49m\n",
      "File \u001b[1;32m~\\AppData\\Local\\Packages\\PythonSoftwareFoundation.Python.3.12_qbz5n2kfra8p0\\LocalCache\\local-packages\\Python312\\site-packages\\torch\\utils\\data\\dataloader.py:631\u001b[0m, in \u001b[0;36m_BaseDataLoaderIter.__next__\u001b[1;34m(self)\u001b[0m\n\u001b[0;32m    628\u001b[0m \u001b[38;5;28;01mif\u001b[39;00m \u001b[38;5;28mself\u001b[39m\u001b[38;5;241m.\u001b[39m_sampler_iter \u001b[38;5;129;01mis\u001b[39;00m \u001b[38;5;28;01mNone\u001b[39;00m:\n\u001b[0;32m    629\u001b[0m     \u001b[38;5;66;03m# TODO(https://github.com/pytorch/pytorch/issues/76750)\u001b[39;00m\n\u001b[0;32m    630\u001b[0m     \u001b[38;5;28mself\u001b[39m\u001b[38;5;241m.\u001b[39m_reset()  \u001b[38;5;66;03m# type: ignore[call-arg]\u001b[39;00m\n\u001b[1;32m--> 631\u001b[0m data \u001b[38;5;241m=\u001b[39m \u001b[38;5;28;43mself\u001b[39;49m\u001b[38;5;241;43m.\u001b[39;49m\u001b[43m_next_data\u001b[49m\u001b[43m(\u001b[49m\u001b[43m)\u001b[49m\n\u001b[0;32m    632\u001b[0m \u001b[38;5;28mself\u001b[39m\u001b[38;5;241m.\u001b[39m_num_yielded \u001b[38;5;241m+\u001b[39m\u001b[38;5;241m=\u001b[39m \u001b[38;5;241m1\u001b[39m\n\u001b[0;32m    633\u001b[0m \u001b[38;5;28;01mif\u001b[39;00m \u001b[38;5;28mself\u001b[39m\u001b[38;5;241m.\u001b[39m_dataset_kind \u001b[38;5;241m==\u001b[39m _DatasetKind\u001b[38;5;241m.\u001b[39mIterable \u001b[38;5;129;01mand\u001b[39;00m \\\n\u001b[0;32m    634\u001b[0m         \u001b[38;5;28mself\u001b[39m\u001b[38;5;241m.\u001b[39m_IterableDataset_len_called \u001b[38;5;129;01mis\u001b[39;00m \u001b[38;5;129;01mnot\u001b[39;00m \u001b[38;5;28;01mNone\u001b[39;00m \u001b[38;5;129;01mand\u001b[39;00m \\\n\u001b[0;32m    635\u001b[0m         \u001b[38;5;28mself\u001b[39m\u001b[38;5;241m.\u001b[39m_num_yielded \u001b[38;5;241m>\u001b[39m \u001b[38;5;28mself\u001b[39m\u001b[38;5;241m.\u001b[39m_IterableDataset_len_called:\n",
      "File \u001b[1;32m~\\AppData\\Local\\Packages\\PythonSoftwareFoundation.Python.3.12_qbz5n2kfra8p0\\LocalCache\\local-packages\\Python312\\site-packages\\torch\\utils\\data\\dataloader.py:675\u001b[0m, in \u001b[0;36m_SingleProcessDataLoaderIter._next_data\u001b[1;34m(self)\u001b[0m\n\u001b[0;32m    673\u001b[0m \u001b[38;5;28;01mdef\u001b[39;00m \u001b[38;5;21m_next_data\u001b[39m(\u001b[38;5;28mself\u001b[39m):\n\u001b[0;32m    674\u001b[0m     index \u001b[38;5;241m=\u001b[39m \u001b[38;5;28mself\u001b[39m\u001b[38;5;241m.\u001b[39m_next_index()  \u001b[38;5;66;03m# may raise StopIteration\u001b[39;00m\n\u001b[1;32m--> 675\u001b[0m     data \u001b[38;5;241m=\u001b[39m \u001b[38;5;28;43mself\u001b[39;49m\u001b[38;5;241;43m.\u001b[39;49m\u001b[43m_dataset_fetcher\u001b[49m\u001b[38;5;241;43m.\u001b[39;49m\u001b[43mfetch\u001b[49m\u001b[43m(\u001b[49m\u001b[43mindex\u001b[49m\u001b[43m)\u001b[49m  \u001b[38;5;66;03m# may raise StopIteration\u001b[39;00m\n\u001b[0;32m    676\u001b[0m     \u001b[38;5;28;01mif\u001b[39;00m \u001b[38;5;28mself\u001b[39m\u001b[38;5;241m.\u001b[39m_pin_memory:\n\u001b[0;32m    677\u001b[0m         data \u001b[38;5;241m=\u001b[39m _utils\u001b[38;5;241m.\u001b[39mpin_memory\u001b[38;5;241m.\u001b[39mpin_memory(data, \u001b[38;5;28mself\u001b[39m\u001b[38;5;241m.\u001b[39m_pin_memory_device)\n",
      "File \u001b[1;32m~\\AppData\\Local\\Packages\\PythonSoftwareFoundation.Python.3.12_qbz5n2kfra8p0\\LocalCache\\local-packages\\Python312\\site-packages\\torch\\utils\\data\\_utils\\fetch.py:51\u001b[0m, in \u001b[0;36m_MapDatasetFetcher.fetch\u001b[1;34m(self, possibly_batched_index)\u001b[0m\n\u001b[0;32m     49\u001b[0m         data \u001b[38;5;241m=\u001b[39m \u001b[38;5;28mself\u001b[39m\u001b[38;5;241m.\u001b[39mdataset\u001b[38;5;241m.\u001b[39m__getitems__(possibly_batched_index)\n\u001b[0;32m     50\u001b[0m     \u001b[38;5;28;01melse\u001b[39;00m:\n\u001b[1;32m---> 51\u001b[0m         data \u001b[38;5;241m=\u001b[39m [\u001b[38;5;28;43mself\u001b[39;49m\u001b[38;5;241;43m.\u001b[39;49m\u001b[43mdataset\u001b[49m\u001b[43m[\u001b[49m\u001b[43midx\u001b[49m\u001b[43m]\u001b[49m \u001b[38;5;28;01mfor\u001b[39;00m idx \u001b[38;5;129;01min\u001b[39;00m possibly_batched_index]\n\u001b[0;32m     52\u001b[0m \u001b[38;5;28;01melse\u001b[39;00m:\n\u001b[0;32m     53\u001b[0m     data \u001b[38;5;241m=\u001b[39m \u001b[38;5;28mself\u001b[39m\u001b[38;5;241m.\u001b[39mdataset[possibly_batched_index]\n",
      "File \u001b[1;32m~\\AppData\\Local\\Packages\\PythonSoftwareFoundation.Python.3.12_qbz5n2kfra8p0\\LocalCache\\local-packages\\Python312\\site-packages\\torchvision\\datasets\\mnist.py:145\u001b[0m, in \u001b[0;36mMNIST.__getitem__\u001b[1;34m(self, index)\u001b[0m\n\u001b[0;32m    142\u001b[0m img \u001b[38;5;241m=\u001b[39m Image\u001b[38;5;241m.\u001b[39mfromarray(img\u001b[38;5;241m.\u001b[39mnumpy(), mode\u001b[38;5;241m=\u001b[39m\u001b[38;5;124m\"\u001b[39m\u001b[38;5;124mL\u001b[39m\u001b[38;5;124m\"\u001b[39m)\n\u001b[0;32m    144\u001b[0m \u001b[38;5;28;01mif\u001b[39;00m \u001b[38;5;28mself\u001b[39m\u001b[38;5;241m.\u001b[39mtransform \u001b[38;5;129;01mis\u001b[39;00m \u001b[38;5;129;01mnot\u001b[39;00m \u001b[38;5;28;01mNone\u001b[39;00m:\n\u001b[1;32m--> 145\u001b[0m     img \u001b[38;5;241m=\u001b[39m \u001b[38;5;28;43mself\u001b[39;49m\u001b[38;5;241;43m.\u001b[39;49m\u001b[43mtransform\u001b[49m\u001b[43m(\u001b[49m\u001b[43mimg\u001b[49m\u001b[43m)\u001b[49m\n\u001b[0;32m    147\u001b[0m \u001b[38;5;28;01mif\u001b[39;00m \u001b[38;5;28mself\u001b[39m\u001b[38;5;241m.\u001b[39mtarget_transform \u001b[38;5;129;01mis\u001b[39;00m \u001b[38;5;129;01mnot\u001b[39;00m \u001b[38;5;28;01mNone\u001b[39;00m:\n\u001b[0;32m    148\u001b[0m     target \u001b[38;5;241m=\u001b[39m \u001b[38;5;28mself\u001b[39m\u001b[38;5;241m.\u001b[39mtarget_transform(target)\n",
      "File \u001b[1;32m~\\AppData\\Local\\Packages\\PythonSoftwareFoundation.Python.3.12_qbz5n2kfra8p0\\LocalCache\\local-packages\\Python312\\site-packages\\torchvision\\transforms\\transforms.py:137\u001b[0m, in \u001b[0;36mToTensor.__call__\u001b[1;34m(self, pic)\u001b[0m\n\u001b[0;32m    129\u001b[0m \u001b[38;5;28;01mdef\u001b[39;00m \u001b[38;5;21m__call__\u001b[39m(\u001b[38;5;28mself\u001b[39m, pic):\n\u001b[0;32m    130\u001b[0m \u001b[38;5;250m    \u001b[39m\u001b[38;5;124;03m\"\"\"\u001b[39;00m\n\u001b[0;32m    131\u001b[0m \u001b[38;5;124;03m    Args:\u001b[39;00m\n\u001b[0;32m    132\u001b[0m \u001b[38;5;124;03m        pic (PIL Image or numpy.ndarray): Image to be converted to tensor.\u001b[39;00m\n\u001b[1;32m   (...)\u001b[0m\n\u001b[0;32m    135\u001b[0m \u001b[38;5;124;03m        Tensor: Converted image.\u001b[39;00m\n\u001b[0;32m    136\u001b[0m \u001b[38;5;124;03m    \"\"\"\u001b[39;00m\n\u001b[1;32m--> 137\u001b[0m     \u001b[38;5;28;01mreturn\u001b[39;00m \u001b[43mF\u001b[49m\u001b[38;5;241;43m.\u001b[39;49m\u001b[43mto_tensor\u001b[49m\u001b[43m(\u001b[49m\u001b[43mpic\u001b[49m\u001b[43m)\u001b[49m\n",
      "File \u001b[1;32m~\\AppData\\Local\\Packages\\PythonSoftwareFoundation.Python.3.12_qbz5n2kfra8p0\\LocalCache\\local-packages\\Python312\\site-packages\\torchvision\\transforms\\functional.py:173\u001b[0m, in \u001b[0;36mto_tensor\u001b[1;34m(pic)\u001b[0m\n\u001b[0;32m    171\u001b[0m img \u001b[38;5;241m=\u001b[39m img\u001b[38;5;241m.\u001b[39mview(pic\u001b[38;5;241m.\u001b[39msize[\u001b[38;5;241m1\u001b[39m], pic\u001b[38;5;241m.\u001b[39msize[\u001b[38;5;241m0\u001b[39m], F_pil\u001b[38;5;241m.\u001b[39mget_image_num_channels(pic))\n\u001b[0;32m    172\u001b[0m \u001b[38;5;66;03m# put it from HWC to CHW format\u001b[39;00m\n\u001b[1;32m--> 173\u001b[0m img \u001b[38;5;241m=\u001b[39m \u001b[43mimg\u001b[49m\u001b[38;5;241;43m.\u001b[39;49m\u001b[43mpermute\u001b[49m\u001b[43m(\u001b[49m\u001b[43m(\u001b[49m\u001b[38;5;241;43m2\u001b[39;49m\u001b[43m,\u001b[49m\u001b[43m \u001b[49m\u001b[38;5;241;43m0\u001b[39;49m\u001b[43m,\u001b[49m\u001b[43m \u001b[49m\u001b[38;5;241;43m1\u001b[39;49m\u001b[43m)\u001b[49m\u001b[43m)\u001b[49m\u001b[38;5;241m.\u001b[39mcontiguous()\n\u001b[0;32m    174\u001b[0m \u001b[38;5;28;01mif\u001b[39;00m \u001b[38;5;28misinstance\u001b[39m(img, torch\u001b[38;5;241m.\u001b[39mByteTensor):\n\u001b[0;32m    175\u001b[0m     \u001b[38;5;28;01mreturn\u001b[39;00m img\u001b[38;5;241m.\u001b[39mto(dtype\u001b[38;5;241m=\u001b[39mdefault_float_dtype)\u001b[38;5;241m.\u001b[39mdiv(\u001b[38;5;241m255\u001b[39m)\n",
      "\u001b[1;31mKeyboardInterrupt\u001b[0m: "
     ]
    }
   ],
   "source": [
    "import matplotlib.pyplot as plt \n",
    "\n",
    "\n",
    "\n",
    "\n",
    "def train_denoising_ae(ae,data,n_epochs=10):\n",
    "    criterion = nn.BCELoss()\n",
    "    optimizer = torch.optim.Adam(ae.parameters(), lr=0.001)\n",
    "    for epoch in range(n_epochs):\n",
    "        for sample in data:\n",
    "            img, _ = sample\n",
    "            img_noisy = img + torch.randn(img.size())\n",
    "            img_noisy = img_noisy.view(-1, 28*28)\n",
    "            img = img.view(-1, 28*28)\n",
    "            optimizer.zero_grad()\n",
    "\n",
    "            img=img.to(DEVICE)\n",
    "            img_noisy=img_noisy.to(DEVICE)\n",
    "            _, output = ae(img_noisy)\n",
    "            loss = criterion(output, img)\n",
    "            loss.backward()\n",
    "            optimizer.step()\n",
    "            MSE_loss = nn.MSELoss()(output, img)\n",
    "        print(f'epoch [{epoch + 1}/{n_epochs}], loss:{MSE_loss.item():.4f}')\n",
    "dae=AutoEncoder([28*28, 256, 64], [64,256, 28*28]).to(DEVICE)\n",
    "train_denoising_ae(dae,dataloader,20)"
   ]
  },
  {
   "cell_type": "code",
   "execution_count": 31,
   "metadata": {},
   "outputs": [
    {
     "name": "stdout",
     "output_type": "stream",
     "text": [
      "epoch [1/20], loss:0.1601\n"
     ]
    },
    {
     "ename": "KeyboardInterrupt",
     "evalue": "",
     "output_type": "error",
     "traceback": [
      "\u001b[1;31m---------------------------------------------------------------------------\u001b[0m",
      "\u001b[1;31mKeyboardInterrupt\u001b[0m                         Traceback (most recent call last)",
      "Cell \u001b[1;32mIn[31], line 30\u001b[0m\n\u001b[0;32m     27\u001b[0m \u001b[38;5;66;03m#needed in order to compute the jacobian\u001b[39;00m\n\u001b[0;32m     29\u001b[0m cae\u001b[38;5;241m=\u001b[39mAutoEncoder([\u001b[38;5;241m28\u001b[39m\u001b[38;5;241m*\u001b[39m\u001b[38;5;241m28\u001b[39m, \u001b[38;5;241m256\u001b[39m, \u001b[38;5;241m64\u001b[39m], [\u001b[38;5;241m64\u001b[39m, \u001b[38;5;241m256\u001b[39m, \u001b[38;5;241m28\u001b[39m\u001b[38;5;241m*\u001b[39m\u001b[38;5;241m28\u001b[39m])\u001b[38;5;241m.\u001b[39mto(DEVICE)\n\u001b[1;32m---> 30\u001b[0m \u001b[43mtrain_contractive_ae\u001b[49m\u001b[43m(\u001b[49m\u001b[43mcae\u001b[49m\u001b[43m,\u001b[49m\u001b[43mdataloader\u001b[49m\u001b[43m,\u001b[49m\u001b[38;5;241;43m20\u001b[39;49m\u001b[43m)\u001b[49m\n",
      "Cell \u001b[1;32mIn[31], line 23\u001b[0m, in \u001b[0;36mtrain_contractive_ae\u001b[1;34m(ae, data, n_epochs, contractive_penalty)\u001b[0m\n\u001b[0;32m     21\u001b[0m optimizer\u001b[38;5;241m.\u001b[39mzero_grad()\n\u001b[0;32m     22\u001b[0m hidden, output \u001b[38;5;241m=\u001b[39m ae(img)\n\u001b[1;32m---> 23\u001b[0m loss \u001b[38;5;241m=\u001b[39m criterion(output, img) \u001b[38;5;241m+\u001b[39m contractive_penalty \u001b[38;5;241m*\u001b[39m \u001b[43mjacobian_penalty_term\u001b[49m\u001b[43m(\u001b[49m\u001b[43mae\u001b[49m\u001b[43m,\u001b[49m\u001b[43m \u001b[49m\u001b[43mimg\u001b[49m\u001b[43m)\u001b[49m\n\u001b[0;32m     24\u001b[0m loss\u001b[38;5;241m.\u001b[39mbackward()\n\u001b[0;32m     25\u001b[0m optimizer\u001b[38;5;241m.\u001b[39mstep()\n",
      "Cell \u001b[1;32mIn[31], line 7\u001b[0m, in \u001b[0;36mjacobian_penalty_term\u001b[1;34m(encoder, inputs)\u001b[0m\n\u001b[0;32m      1\u001b[0m \u001b[38;5;28;01mdef\u001b[39;00m \u001b[38;5;21mjacobian_penalty_term\u001b[39m(encoder, inputs):\n\u001b[0;32m      2\u001b[0m \u001b[38;5;250m    \u001b[39m\u001b[38;5;124;03m\"\"\" jacobian = torch.autograd.grad(outputs=hidden, inputs=inputs,\u001b[39;00m\n\u001b[0;32m      3\u001b[0m \u001b[38;5;124;03m                                   grad_outputs=torch.ones_like(hidden),\u001b[39;00m\n\u001b[0;32m      4\u001b[0m \u001b[38;5;124;03m                                   create_graph=True, retain_graph=True, only_inputs=True)[0]\u001b[39;00m\n\u001b[0;32m      5\u001b[0m \u001b[38;5;124;03m    jacobian = jacobian.view(jacobian.size(0), -1)\u001b[39;00m\n\u001b[0;32m      6\u001b[0m \u001b[38;5;124;03m    penalty_term = torch.norm(jacobian, p=2, dim=1)**2 \"\"\"\u001b[39;00m\n\u001b[1;32m----> 7\u001b[0m     jacobian\u001b[38;5;241m=\u001b[39m\u001b[43mtorch\u001b[49m\u001b[38;5;241;43m.\u001b[39;49m\u001b[43mautograd\u001b[49m\u001b[38;5;241;43m.\u001b[39;49m\u001b[43mfunctional\u001b[49m\u001b[38;5;241;43m.\u001b[39;49m\u001b[43mjacobian\u001b[49m\u001b[43m(\u001b[49m\u001b[43mencoder\u001b[49m\u001b[38;5;241;43m.\u001b[39;49m\u001b[43mencoder\u001b[49m\u001b[43m,\u001b[49m\u001b[43m \u001b[49m\u001b[43minputs\u001b[49m\u001b[43m)\u001b[49m\n\u001b[0;32m      8\u001b[0m     penalty_term \u001b[38;5;241m=\u001b[39m torch\u001b[38;5;241m.\u001b[39msum(jacobian\u001b[38;5;241m*\u001b[39m\u001b[38;5;241m*\u001b[39m\u001b[38;5;241m2\u001b[39m)\n\u001b[0;32m      9\u001b[0m     \u001b[38;5;28;01mreturn\u001b[39;00m penalty_term\n",
      "File \u001b[1;32m~\\AppData\\Local\\Packages\\PythonSoftwareFoundation.Python.3.12_qbz5n2kfra8p0\\LocalCache\\local-packages\\Python312\\site-packages\\torch\\autograd\\functional.py:786\u001b[0m, in \u001b[0;36mjacobian\u001b[1;34m(func, inputs, create_graph, strict, vectorize, strategy)\u001b[0m\n\u001b[0;32m    784\u001b[0m jac_i: Tuple[List[torch\u001b[38;5;241m.\u001b[39mTensor]] \u001b[38;5;241m=\u001b[39m \u001b[38;5;28mtuple\u001b[39m([] \u001b[38;5;28;01mfor\u001b[39;00m _ \u001b[38;5;129;01min\u001b[39;00m \u001b[38;5;28mrange\u001b[39m(\u001b[38;5;28mlen\u001b[39m(inputs)))  \u001b[38;5;66;03m# type: ignore[assignment]\u001b[39;00m\n\u001b[0;32m    785\u001b[0m \u001b[38;5;28;01mfor\u001b[39;00m j \u001b[38;5;129;01min\u001b[39;00m \u001b[38;5;28mrange\u001b[39m(out\u001b[38;5;241m.\u001b[39mnelement()):\n\u001b[1;32m--> 786\u001b[0m     vj \u001b[38;5;241m=\u001b[39m \u001b[43m_autograd_grad\u001b[49m\u001b[43m(\u001b[49m\n\u001b[0;32m    787\u001b[0m \u001b[43m        \u001b[49m\u001b[43m(\u001b[49m\u001b[43mout\u001b[49m\u001b[38;5;241;43m.\u001b[39;49m\u001b[43mreshape\u001b[49m\u001b[43m(\u001b[49m\u001b[38;5;241;43m-\u001b[39;49m\u001b[38;5;241;43m1\u001b[39;49m\u001b[43m)\u001b[49m\u001b[43m[\u001b[49m\u001b[43mj\u001b[49m\u001b[43m]\u001b[49m\u001b[43m,\u001b[49m\u001b[43m)\u001b[49m\u001b[43m,\u001b[49m\n\u001b[0;32m    788\u001b[0m \u001b[43m        \u001b[49m\u001b[43minputs\u001b[49m\u001b[43m,\u001b[49m\n\u001b[0;32m    789\u001b[0m \u001b[43m        \u001b[49m\u001b[43mretain_graph\u001b[49m\u001b[38;5;241;43m=\u001b[39;49m\u001b[38;5;28;43;01mTrue\u001b[39;49;00m\u001b[43m,\u001b[49m\n\u001b[0;32m    790\u001b[0m \u001b[43m        \u001b[49m\u001b[43mcreate_graph\u001b[49m\u001b[38;5;241;43m=\u001b[39;49m\u001b[43mcreate_graph\u001b[49m\u001b[43m,\u001b[49m\n\u001b[0;32m    791\u001b[0m \u001b[43m    \u001b[49m\u001b[43m)\u001b[49m\n\u001b[0;32m    793\u001b[0m     \u001b[38;5;28;01mfor\u001b[39;00m el_idx, (jac_i_el, vj_el, inp_el) \u001b[38;5;129;01min\u001b[39;00m \u001b[38;5;28menumerate\u001b[39m(\n\u001b[0;32m    794\u001b[0m         \u001b[38;5;28mzip\u001b[39m(jac_i, vj, inputs)\n\u001b[0;32m    795\u001b[0m     ):\n\u001b[0;32m    796\u001b[0m         \u001b[38;5;28;01mif\u001b[39;00m vj_el \u001b[38;5;129;01mis\u001b[39;00m \u001b[38;5;129;01mnot\u001b[39;00m \u001b[38;5;28;01mNone\u001b[39;00m:\n",
      "File \u001b[1;32m~\\AppData\\Local\\Packages\\PythonSoftwareFoundation.Python.3.12_qbz5n2kfra8p0\\LocalCache\\local-packages\\Python312\\site-packages\\torch\\autograd\\functional.py:192\u001b[0m, in \u001b[0;36m_autograd_grad\u001b[1;34m(outputs, inputs, grad_outputs, create_graph, retain_graph, is_grads_batched)\u001b[0m\n\u001b[0;32m    190\u001b[0m     \u001b[38;5;28;01mreturn\u001b[39;00m (\u001b[38;5;28;01mNone\u001b[39;00m,) \u001b[38;5;241m*\u001b[39m \u001b[38;5;28mlen\u001b[39m(inputs)\n\u001b[0;32m    191\u001b[0m \u001b[38;5;28;01melse\u001b[39;00m:\n\u001b[1;32m--> 192\u001b[0m     \u001b[38;5;28;01mreturn\u001b[39;00m \u001b[43mtorch\u001b[49m\u001b[38;5;241;43m.\u001b[39;49m\u001b[43mautograd\u001b[49m\u001b[38;5;241;43m.\u001b[39;49m\u001b[43mgrad\u001b[49m\u001b[43m(\u001b[49m\n\u001b[0;32m    193\u001b[0m \u001b[43m        \u001b[49m\u001b[43mnew_outputs\u001b[49m\u001b[43m,\u001b[49m\n\u001b[0;32m    194\u001b[0m \u001b[43m        \u001b[49m\u001b[43minputs\u001b[49m\u001b[43m,\u001b[49m\n\u001b[0;32m    195\u001b[0m \u001b[43m        \u001b[49m\u001b[43mnew_grad_outputs\u001b[49m\u001b[43m,\u001b[49m\n\u001b[0;32m    196\u001b[0m \u001b[43m        \u001b[49m\u001b[43mallow_unused\u001b[49m\u001b[38;5;241;43m=\u001b[39;49m\u001b[38;5;28;43;01mTrue\u001b[39;49;00m\u001b[43m,\u001b[49m\n\u001b[0;32m    197\u001b[0m \u001b[43m        \u001b[49m\u001b[43mcreate_graph\u001b[49m\u001b[38;5;241;43m=\u001b[39;49m\u001b[43mcreate_graph\u001b[49m\u001b[43m,\u001b[49m\n\u001b[0;32m    198\u001b[0m \u001b[43m        \u001b[49m\u001b[43mretain_graph\u001b[49m\u001b[38;5;241;43m=\u001b[39;49m\u001b[43mretain_graph\u001b[49m\u001b[43m,\u001b[49m\n\u001b[0;32m    199\u001b[0m \u001b[43m        \u001b[49m\u001b[43mis_grads_batched\u001b[49m\u001b[38;5;241;43m=\u001b[39;49m\u001b[43mis_grads_batched\u001b[49m\u001b[43m,\u001b[49m\n\u001b[0;32m    200\u001b[0m \u001b[43m    \u001b[49m\u001b[43m)\u001b[49m\n",
      "File \u001b[1;32m~\\AppData\\Local\\Packages\\PythonSoftwareFoundation.Python.3.12_qbz5n2kfra8p0\\LocalCache\\local-packages\\Python312\\site-packages\\torch\\autograd\\__init__.py:411\u001b[0m, in \u001b[0;36mgrad\u001b[1;34m(outputs, inputs, grad_outputs, retain_graph, create_graph, only_inputs, allow_unused, is_grads_batched, materialize_grads)\u001b[0m\n\u001b[0;32m    407\u001b[0m     result \u001b[38;5;241m=\u001b[39m _vmap_internals\u001b[38;5;241m.\u001b[39m_vmap(vjp, \u001b[38;5;241m0\u001b[39m, \u001b[38;5;241m0\u001b[39m, allow_none_pass_through\u001b[38;5;241m=\u001b[39m\u001b[38;5;28;01mTrue\u001b[39;00m)(\n\u001b[0;32m    408\u001b[0m         grad_outputs_\n\u001b[0;32m    409\u001b[0m     )\n\u001b[0;32m    410\u001b[0m \u001b[38;5;28;01melse\u001b[39;00m:\n\u001b[1;32m--> 411\u001b[0m     result \u001b[38;5;241m=\u001b[39m \u001b[43mVariable\u001b[49m\u001b[38;5;241;43m.\u001b[39;49m\u001b[43m_execution_engine\u001b[49m\u001b[38;5;241;43m.\u001b[39;49m\u001b[43mrun_backward\u001b[49m\u001b[43m(\u001b[49m\u001b[43m  \u001b[49m\u001b[38;5;66;43;03m# Calls into the C++ engine to run the backward pass\u001b[39;49;00m\n\u001b[0;32m    412\u001b[0m \u001b[43m        \u001b[49m\u001b[43mt_outputs\u001b[49m\u001b[43m,\u001b[49m\n\u001b[0;32m    413\u001b[0m \u001b[43m        \u001b[49m\u001b[43mgrad_outputs_\u001b[49m\u001b[43m,\u001b[49m\n\u001b[0;32m    414\u001b[0m \u001b[43m        \u001b[49m\u001b[43mretain_graph\u001b[49m\u001b[43m,\u001b[49m\n\u001b[0;32m    415\u001b[0m \u001b[43m        \u001b[49m\u001b[43mcreate_graph\u001b[49m\u001b[43m,\u001b[49m\n\u001b[0;32m    416\u001b[0m \u001b[43m        \u001b[49m\u001b[43minputs\u001b[49m\u001b[43m,\u001b[49m\n\u001b[0;32m    417\u001b[0m \u001b[43m        \u001b[49m\u001b[43mallow_unused\u001b[49m\u001b[43m,\u001b[49m\n\u001b[0;32m    418\u001b[0m \u001b[43m        \u001b[49m\u001b[43maccumulate_grad\u001b[49m\u001b[38;5;241;43m=\u001b[39;49m\u001b[38;5;28;43;01mFalse\u001b[39;49;00m\u001b[43m,\u001b[49m\n\u001b[0;32m    419\u001b[0m \u001b[43m    \u001b[49m\u001b[43m)\u001b[49m  \u001b[38;5;66;03m# Calls into the C++ engine to run the backward pass\u001b[39;00m\n\u001b[0;32m    420\u001b[0m \u001b[38;5;28;01mif\u001b[39;00m materialize_grads:\n\u001b[0;32m    421\u001b[0m     \u001b[38;5;28;01mif\u001b[39;00m \u001b[38;5;28many\u001b[39m(\n\u001b[0;32m    422\u001b[0m         result[i] \u001b[38;5;129;01mis\u001b[39;00m \u001b[38;5;28;01mNone\u001b[39;00m \u001b[38;5;129;01mand\u001b[39;00m \u001b[38;5;129;01mnot\u001b[39;00m is_tensor_like(inputs[i])\n\u001b[0;32m    423\u001b[0m         \u001b[38;5;28;01mfor\u001b[39;00m i \u001b[38;5;129;01min\u001b[39;00m \u001b[38;5;28mrange\u001b[39m(\u001b[38;5;28mlen\u001b[39m(inputs))\n\u001b[0;32m    424\u001b[0m     ):\n",
      "\u001b[1;31mKeyboardInterrupt\u001b[0m: "
     ]
    }
   ],
   "source": [
    "def jacobian_penalty_term(encoder, inputs):\n",
    "    \"\"\" jacobian = torch.autograd.grad(outputs=hidden, inputs=inputs,\n",
    "                                   grad_outputs=torch.ones_like(hidden),\n",
    "                                   create_graph=True, retain_graph=True, only_inputs=True)[0]\n",
    "    jacobian = jacobian.view(jacobian.size(0), -1)\n",
    "    penalty_term = torch.norm(jacobian, p=2, dim=1)**2 \"\"\"\n",
    "    jacobian=torch.autograd.functional.jacobian(encoder.encoder, inputs)\n",
    "    penalty_term = torch.sum(jacobian**2)\n",
    "    return penalty_term\n",
    "\n",
    "def train_contractive_ae(ae,data,n_epochs=10,contractive_penalty=1e-4):\n",
    "    criterion = nn.BCELoss()\n",
    "    optimizer = torch.optim.Adam(ae.parameters(), lr=0.001)\n",
    "    for epoch in range(n_epochs):\n",
    "        for i,sample in enumerate(data):\n",
    "            batch, _ = sample\n",
    "            batch = batch.view(-1, 28*28).to(DEVICE)\n",
    "            for img in batch:\n",
    "                img.requires_grad = True\n",
    "                img.retain_grad()\n",
    "                optimizer.zero_grad()\n",
    "                hidden, output = ae(img)\n",
    "                loss = criterion(output, img) + contractive_penalty * jacobian_penalty_term(ae, img)\n",
    "                loss.backward()\n",
    "                optimizer.step()\n",
    "        print(f'epoch [{epoch + 1}/{n_epochs}], loss:{loss.item():.4f}')\n",
    "#needed in order to compute the jacobian\n",
    "\n",
    "cae=AutoEncoder([28*28, 256, 64], [64, 256, 28*28]).to(DEVICE)\n",
    "train_contractive_ae(cae,dataloader,20)"
   ]
  },
  {
   "cell_type": "code",
   "execution_count": 11,
   "metadata": {},
   "outputs": [],
   "source": [
    "def generate_data_point(model, input_shape, num_iterations=100, step_size=1e-2):\n",
    "    # Start with a random noise\n",
    "    noise = torch.randn(input_shape).requires_grad_(True).to(DEVICE)\n",
    "    print(noise)\n",
    "    for i in range(num_iterations):\n",
    "        # Forward pass through the encoder\n",
    "\n",
    "        _,noise = model(noise)\n",
    "    new_data_point= noise.view(-1, 28*28)\n",
    "    return new_data_point"
   ]
  },
  {
   "cell_type": "code",
   "execution_count": 12,
   "metadata": {},
   "outputs": [
    {
     "name": "stdout",
     "output_type": "stream",
     "text": [
      "tensor([-7.0316e-01,  4.1458e-01,  5.0949e-01, -2.6456e-01, -3.0413e-01,\n",
      "         5.4675e-01, -1.0136e+00, -5.9643e-02,  9.8074e-01,  1.0961e+00,\n",
      "        -1.3365e+00,  7.8616e-01, -5.8737e-01, -6.2981e-02,  2.2937e+00,\n",
      "        -2.1253e-01, -4.6496e-01, -4.2044e-01, -1.1730e-01, -4.9350e-01,\n",
      "         1.5745e-01, -5.9479e-01,  1.0507e+00,  2.1700e-03, -3.7893e-01,\n",
      "        -4.9129e-01,  4.0894e-01,  4.6310e-01,  9.4075e-01,  1.5217e+00,\n",
      "         1.6809e+00, -1.5256e+00, -3.4710e-01, -3.0526e-01, -8.3200e-01,\n",
      "        -1.2206e+00, -4.4679e-01,  1.1907e+00, -1.0301e+00,  6.6276e-01,\n",
      "        -2.6375e-01, -2.4816e-01,  4.7247e-01,  8.9046e-01,  2.2163e+00,\n",
      "        -1.0176e+00,  6.1711e-01, -1.7323e+00,  4.2418e-01,  6.0778e-01,\n",
      "         1.1417e+00,  2.6694e-01,  1.0575e-01,  1.0343e+00,  3.3568e-01,\n",
      "        -9.2252e-01,  1.0498e+00, -1.5053e+00, -4.6169e-02, -8.6529e-01,\n",
      "        -2.3838e+00,  2.4546e+00,  8.4705e-01,  8.0271e-01,  8.5244e-01,\n",
      "         6.0488e-01, -2.2169e-01, -1.2008e+00,  8.9876e-03,  1.0505e+00,\n",
      "        -9.1737e-01,  9.0083e-01,  2.3511e-01, -1.4277e-01, -6.0007e-01,\n",
      "         5.0071e-02,  3.7117e-01, -1.7868e+00, -1.7515e+00,  1.0311e+00,\n",
      "         1.1573e+00,  2.5095e-02, -1.1589e+00, -1.6237e+00, -8.6937e-01,\n",
      "         3.3227e-01, -2.6719e-01, -9.2347e-01,  8.0373e-01, -6.5000e-01,\n",
      "         9.3990e-02,  6.1539e-01,  1.9127e+00, -1.2552e-01, -3.0754e-01,\n",
      "        -1.9885e-01, -3.0907e-01,  2.0662e-01, -3.0572e-01, -1.1250e+00,\n",
      "        -3.2336e-01,  1.0691e+00,  1.3932e+00, -9.8512e-02, -1.7230e-01,\n",
      "         3.6977e-01, -9.8311e-01, -9.1110e-01,  1.7266e-01,  9.5989e-01,\n",
      "         9.2356e-01,  1.0358e+00,  5.5834e-01,  1.1847e+00, -1.0735e+00,\n",
      "        -8.3324e-01, -1.8524e-02,  6.4012e-01,  2.7875e-01, -1.0621e+00,\n",
      "        -1.1124e+00,  3.5984e-01, -3.3120e-01, -5.7176e-01,  8.8437e-01,\n",
      "        -9.4519e-01,  7.3241e-01, -3.7759e-01,  7.7025e-01,  7.9658e-01,\n",
      "        -3.7777e-01,  1.7277e+00, -1.1251e+00,  4.2084e-01, -1.0732e+00,\n",
      "        -9.9165e-01,  1.8876e+00,  1.6049e+00, -1.6321e+00, -1.3111e+00,\n",
      "         1.3463e-01,  4.1184e-01,  1.0968e+00, -6.8928e-01,  8.4406e-01,\n",
      "         9.4719e-01,  2.3513e-01, -1.2613e+00, -1.9976e+00, -5.3197e-01,\n",
      "        -2.5671e-01,  4.0326e-02,  2.2460e-01,  1.0446e+00,  1.1202e+00,\n",
      "         1.4046e+00,  4.4928e-01,  1.3044e+00,  2.1502e-01, -1.4368e-01,\n",
      "         1.1647e+00, -1.3806e+00, -3.8095e-02, -1.1793e-02,  4.6385e-01,\n",
      "         1.4406e-01, -7.4422e-01,  1.4397e-01,  3.6286e-01, -1.9795e+00,\n",
      "         1.7251e+00,  1.5157e+00,  2.1109e+00, -1.1137e+00,  1.6423e+00,\n",
      "         4.9449e-01, -2.9691e-01,  1.3062e-01,  5.8110e-01, -1.2878e+00,\n",
      "         4.2460e-01,  3.0194e-01, -2.6380e-01, -1.6591e+00,  5.1163e-01,\n",
      "        -6.8235e-01,  5.7423e-01,  9.1246e-01, -1.8782e-01,  3.6134e-02,\n",
      "         1.6792e-02,  6.8892e-01, -2.6526e-01, -3.2568e-01,  6.5359e-01,\n",
      "         2.2516e-01, -1.4050e+00, -1.1178e+00, -1.1485e+00, -2.9682e-01,\n",
      "         5.4053e-01, -1.1442e-01,  6.5145e-01,  1.0363e+00,  1.2481e+00,\n",
      "        -4.5129e-01, -1.9355e+00,  1.2409e-01,  5.1806e-01, -1.1204e+00,\n",
      "        -9.0333e-01,  1.3284e+00, -1.2013e+00,  1.1933e+00, -1.1643e-02,\n",
      "        -9.2609e-01,  3.4797e-01, -1.5050e+00,  7.7379e-01, -2.1447e+00,\n",
      "        -6.3019e-03, -2.4880e-01, -2.4133e-01, -4.8883e-01,  2.5628e-02,\n",
      "        -1.9755e+00,  1.9850e-01,  1.5130e+00,  1.0408e+00, -1.6095e-02,\n",
      "         1.4487e+00,  2.0934e+00, -1.9671e-01,  2.5444e+00, -1.0103e-01,\n",
      "        -9.8918e-01, -5.2462e-01,  8.8524e-01, -1.6297e-02, -1.2359e+00,\n",
      "         1.4546e+00,  8.0592e-02,  1.2853e+00, -6.4019e-01,  8.1507e-02,\n",
      "         4.9644e-01, -5.6954e-01, -1.4099e+00,  8.3073e-01, -7.1218e-01,\n",
      "         3.8045e-01, -1.3565e-01,  2.5516e+00, -1.0832e+00, -2.4191e-01,\n",
      "         4.8990e-01, -1.6376e-01, -4.7528e-01,  6.8802e-01, -9.9772e-02,\n",
      "         5.6609e-01, -7.6617e-01,  1.4242e-01,  2.5626e+00,  9.4509e-01,\n",
      "         4.8366e-01,  6.3820e-01,  3.8153e-02, -6.7554e-01, -4.7314e-01,\n",
      "         7.4470e-01, -6.4196e-01,  1.3719e-01,  5.8565e-01, -6.8842e-01,\n",
      "         3.4044e-01,  2.7370e+00, -9.3428e-01, -2.4406e+00,  2.7016e-01,\n",
      "         1.3208e+00,  1.3157e+00, -3.1059e-01,  1.5786e+00,  6.8820e-01,\n",
      "        -3.3454e-01,  1.4272e+00, -1.2747e-01,  4.3769e-01,  9.1952e-01,\n",
      "        -1.2925e-01,  7.9776e-01, -1.4253e+00, -1.4070e+00, -3.5385e-02,\n",
      "        -3.1864e-01, -1.4743e+00, -1.7564e+00,  2.5066e-01, -1.7419e-01,\n",
      "         6.0093e-01,  9.1356e-01, -1.1431e+00, -1.8975e-01, -2.6619e+00,\n",
      "         1.4732e+00, -1.4596e+00,  1.1756e+00, -1.5026e-01,  1.1165e+00,\n",
      "         3.1916e-01, -1.5756e+00,  3.3886e-01, -1.2237e+00, -1.2085e-01,\n",
      "         1.8087e+00,  5.7585e-01, -3.6774e-02,  3.8682e-01, -1.7476e+00,\n",
      "         1.1629e-01,  9.6645e-01, -1.9686e+00,  2.2531e-01, -1.0935e+00,\n",
      "         6.8584e-01,  9.0108e-01,  9.6877e-01,  1.1644e+00,  4.7651e-01,\n",
      "        -5.5106e-01,  4.2365e-01, -2.5698e-01,  9.4144e-01,  1.6786e-01,\n",
      "        -6.3531e-01, -6.3536e-01, -8.8297e-01,  7.7298e-01,  6.8583e-01,\n",
      "        -6.8878e-02,  1.2456e+00,  7.6600e-01, -5.7545e-01, -3.7722e-01,\n",
      "        -1.8687e-01,  5.9248e-01, -6.2065e-01,  1.4059e+00,  7.0695e-01,\n",
      "         5.0106e-01,  1.7759e-01, -8.2483e-01, -2.7319e-02, -2.5813e-01,\n",
      "        -5.0541e-01, -6.7752e-02,  8.7158e-01, -8.0499e-01, -1.1854e+00,\n",
      "        -6.7789e-01,  9.5725e-01,  1.9304e+00, -6.2864e-01, -1.2772e+00,\n",
      "        -5.4590e-01, -2.4544e-01,  6.0510e-01, -1.4991e+00,  1.4949e-01,\n",
      "         4.7789e-01, -2.2142e-01, -7.0183e-01, -9.2717e-01, -1.6333e+00,\n",
      "         8.1894e-01, -6.7460e-01,  3.0379e-01, -2.1059e+00,  1.1619e+00,\n",
      "        -2.4558e-01, -1.9749e+00,  1.1583e+00, -2.9117e+00, -1.2177e+00,\n",
      "        -1.9527e+00,  1.0065e+00,  4.1514e-01,  3.1055e-01,  3.2099e-01,\n",
      "         1.9326e+00, -1.4672e-01,  5.3534e-01,  1.3242e+00,  1.9244e-01,\n",
      "         1.1306e+00, -2.3308e-02, -5.9468e-01, -1.1442e+00, -8.8446e-01,\n",
      "         7.3172e-01,  2.1015e-01,  2.6864e-01, -1.1735e+00, -3.4766e-01,\n",
      "        -6.3170e-01,  9.4695e-01, -5.5168e-01, -2.7470e-01, -2.6393e-01,\n",
      "        -1.1264e+00,  7.7572e-01,  9.6418e-01, -1.6085e+00,  1.7351e+00,\n",
      "        -1.0839e-01,  1.7704e+00, -6.1572e-01, -9.7401e-01,  1.5374e-01,\n",
      "         1.0859e+00, -3.7312e-01,  8.3237e-01,  1.7410e+00, -9.7924e-01,\n",
      "         8.1509e-01, -3.2933e-01, -1.2127e+00,  2.5281e-01, -1.3549e-01,\n",
      "         1.8106e-01,  5.7637e-01,  1.9341e-01,  1.3439e+00, -1.4490e-01,\n",
      "         2.5965e+00, -1.4042e+00,  9.6930e-01,  2.4304e-01, -4.7776e-01,\n",
      "         4.0405e-01,  8.4689e-01, -6.0158e-01,  8.2115e-01,  4.0185e-01,\n",
      "         7.1694e-01, -1.5766e+00,  1.4946e+00,  6.4753e-01,  2.2651e-02,\n",
      "        -1.4942e-01,  4.1893e-01, -1.2184e+00, -1.9666e+00, -6.4112e-01,\n",
      "         1.3974e+00, -4.5530e-01, -2.1163e+00,  6.5256e-01, -2.2180e-01,\n",
      "        -4.6242e-01,  8.0834e-02, -5.7600e-01,  1.6694e-01, -1.3590e+00,\n",
      "         6.0952e-01,  8.1641e-01, -5.2384e-01,  1.3938e+00, -3.0596e-01,\n",
      "         1.2917e-01,  5.4318e-01, -4.1591e-01,  8.4686e-01, -9.9649e-01,\n",
      "        -1.4970e+00,  8.4949e-01, -6.9108e-01,  2.0928e-01,  6.6998e-01,\n",
      "        -2.2156e+00,  1.3965e+00,  9.1134e-01,  5.6291e-01, -1.0688e+00,\n",
      "        -1.3314e+00, -6.7019e-01, -1.7192e+00,  5.1442e-01,  1.9745e-01,\n",
      "        -1.2029e+00,  5.5790e-01, -1.3589e-01, -1.9391e+00,  5.6547e-02,\n",
      "        -5.1065e-01,  2.6858e-01,  3.3384e-01,  1.4426e+00,  8.2008e-01,\n",
      "        -3.1724e-01, -4.0212e-02,  2.2879e+00,  3.2646e-01,  1.0963e+00,\n",
      "        -1.1528e-01,  2.2828e-01,  1.7768e+00,  8.3029e-01,  3.9170e-01,\n",
      "        -9.8275e-02,  2.2049e-01, -4.4649e-01,  2.7515e-01, -1.3874e-01,\n",
      "        -1.8971e-01, -1.7381e+00, -2.6480e-01,  6.9364e-01, -2.0398e-01,\n",
      "         1.1784e+00, -1.6208e+00, -9.5109e-01,  2.1436e+00, -5.3880e-02,\n",
      "         1.0247e+00, -6.2132e-01,  1.8580e+00, -2.7022e-01,  2.0507e+00,\n",
      "        -1.7832e+00, -2.0058e-01, -3.1742e-01, -1.1453e+00,  1.2658e+00,\n",
      "         2.2744e+00,  7.5065e-01,  6.0666e-01, -7.5582e-01,  6.6192e-01,\n",
      "         9.8262e-02,  1.8800e+00,  1.9191e+00, -3.5900e-01,  1.0043e-01,\n",
      "        -2.7557e-01,  1.3468e+00, -5.8691e-01, -1.8814e+00,  1.8819e-01,\n",
      "         1.0542e+00, -6.4334e-02,  3.0785e-01,  1.7078e+00,  3.5952e-01,\n",
      "         8.9948e-01, -1.3769e+00, -3.5321e-01,  7.8371e-01,  1.8685e-01,\n",
      "         8.1216e-02,  9.4838e-01, -9.1222e-01, -1.2041e+00,  1.1749e+00,\n",
      "         1.6942e+00, -8.5724e-01,  3.0529e-01,  3.3589e-01,  2.8875e-01,\n",
      "         5.3414e-01, -1.2881e+00, -9.0439e-01,  1.5101e+00,  1.2835e-01,\n",
      "         1.9232e+00,  2.1040e-01,  1.2756e+00,  6.2435e-01,  2.2430e-01,\n",
      "        -8.2678e-01,  1.6237e-02, -2.7553e-01, -2.5169e+00,  7.6892e-01,\n",
      "        -1.4527e-02,  2.6382e-01,  2.5068e+00,  1.0336e+00, -7.5832e-01,\n",
      "         1.6446e+00, -6.4769e-01,  1.0285e+00, -8.7706e-01,  1.3518e+00,\n",
      "         1.0008e+00,  7.2442e-01,  1.0540e+00, -1.9032e-01,  9.9799e-01,\n",
      "         3.1849e-01, -4.3386e-01, -1.5120e-03,  1.9597e+00, -7.1013e-01,\n",
      "        -6.8265e-01,  1.4558e+00, -3.7217e-01, -1.5862e+00, -5.9764e-01,\n",
      "        -2.6475e-01,  7.1384e-02,  1.1246e+00, -3.9197e-01,  5.3054e-01,\n",
      "        -3.5225e-01, -1.6078e+00,  1.2933e-01,  6.2274e-01,  8.5773e-01,\n",
      "        -4.2363e-01, -2.0594e-01, -8.6418e-01, -1.2308e+00, -5.7663e-01,\n",
      "         1.0237e+00,  1.0576e+00,  1.1771e+00, -1.1448e-01,  1.0883e+00,\n",
      "        -2.0798e-01,  1.3108e+00,  1.5507e+00,  5.1629e-01,  1.8134e+00,\n",
      "        -3.1328e-01,  4.2025e-01, -9.6931e-01, -2.2766e+00, -1.8716e+00,\n",
      "        -9.0539e-01,  7.4247e-01, -6.8563e-01, -1.3935e+00,  2.2863e+00,\n",
      "        -1.4469e+00,  1.7452e+00,  4.1579e+00, -1.3788e+00,  7.2314e-01,\n",
      "         1.3633e+00,  4.6404e-02, -6.9852e-02, -9.1872e-01, -1.2774e+00,\n",
      "         1.5207e-01,  3.7242e-01, -5.0481e-01,  1.4067e+00,  5.6447e-01,\n",
      "         1.7802e-01, -1.7744e+00, -2.0851e+00, -8.0694e-01,  8.7180e-01,\n",
      "         3.5841e-01, -4.6549e-01, -1.0145e+00, -1.9826e+00,  6.9943e-01,\n",
      "         1.0580e+00,  1.5099e+00, -1.0971e+00, -9.6358e-02, -3.0180e-01,\n",
      "         7.5069e-01,  8.0158e-01, -1.4564e+00,  7.5124e-01,  2.0292e+00,\n",
      "        -2.4110e-01, -2.2384e-01,  5.8024e-01,  1.9428e+00,  1.6072e+00,\n",
      "         7.4951e-01, -7.3055e-01,  2.5506e-01, -2.8539e+00, -6.5664e-01,\n",
      "         1.6005e+00, -5.2448e-01, -7.1696e-01,  9.8332e-01, -1.5095e-01,\n",
      "        -6.1916e-01, -7.4007e-02, -2.8720e-01, -8.5486e-01,  1.5065e+00,\n",
      "         4.9804e-01,  1.4977e+00, -1.6486e+00, -9.2722e-01, -8.2207e-02,\n",
      "        -3.3710e-01, -4.7659e-01, -5.2218e-01, -3.7774e-01, -9.3592e-01,\n",
      "        -1.0369e+00, -2.6106e-01, -2.0758e+00, -9.0784e-01,  2.0449e+00,\n",
      "        -5.0696e-01,  1.1127e-01,  5.9129e-01, -1.0358e+00, -7.7133e-02,\n",
      "        -4.8158e-01, -3.2006e-01, -8.9883e-01,  1.0978e+00,  1.0285e+00,\n",
      "         9.1683e-02, -2.5898e+00,  1.3370e+00, -1.8876e+00,  5.6504e-01,\n",
      "         2.0750e-01, -8.5978e-01,  3.3950e-01,  2.6576e-01, -9.9705e-01,\n",
      "         3.6333e-01, -3.8990e-01,  2.3923e+00,  1.2566e+00, -1.3615e+00,\n",
      "        -4.3374e-01,  3.7470e-01, -4.9154e-01,  1.0851e+00, -9.8344e-01,\n",
      "        -4.4726e-01, -1.3167e+00,  6.1594e-01, -1.9836e+00, -4.0945e-01,\n",
      "        -2.5738e-01, -7.3124e-01,  9.5123e-02, -1.8021e+00, -6.2042e-01,\n",
      "        -8.7758e-01,  3.7563e-01, -6.5697e-01,  1.0815e+00, -9.5675e-01,\n",
      "        -1.8080e+00,  1.2982e-01, -3.5926e-01, -1.5043e-01,  1.4761e+00,\n",
      "        -1.2103e+00,  4.9672e-01, -1.8523e+00,  1.3698e+00, -8.0377e-01,\n",
      "        -7.6867e-01, -1.0983e+00, -1.1155e+00,  9.8646e-01,  3.7946e-02,\n",
      "         2.8924e-01,  3.6800e-01,  8.7997e-01, -7.6117e-01, -1.8868e+00,\n",
      "         1.8600e+00,  5.2373e-01, -9.8789e-01,  8.1614e-01], device='cuda:0',\n",
      "       grad_fn=<ToCopyBackward0>)\n"
     ]
    },
    {
     "data": {
      "text/plain": [
       "<matplotlib.image.AxesImage at 0x1c015915010>"
      ]
     },
     "execution_count": 12,
     "metadata": {},
     "output_type": "execute_result"
    },
    {
     "data": {
      "image/png": "[encoded data removed]",
      "text/plain": [
       "<Figure size 480x480 with 1 Axes>"
      ]
     },
     "metadata": {},
     "output_type": "display_data"
    }
   ],
   "source": [
    "import matplotlib.pyplot as plt\n",
    "plt.matshow(generate_data_point(cae,28*28,100000).view(28, 28).detach().cpu().numpy())"
   ]
  },
  {
   "cell_type": "code",
   "execution_count": 35,
   "metadata": {},
   "outputs": [
    {
     "name": "stdout",
     "output_type": "stream",
     "text": [
      "tensor([ 8.2298e-01, -4.9305e-01, -1.5614e+00, -5.8147e-01,  7.1859e-01,\n",
      "         5.4540e-01,  1.6393e+00, -9.2839e-01, -3.5858e-01, -2.2980e-01,\n",
      "        -6.8149e-01,  9.8828e-02, -4.0277e-01, -6.1911e-01, -6.7049e-01,\n",
      "        -8.4592e-01,  4.0639e-02, -5.2155e-01,  8.4424e-01, -9.2696e-01,\n",
      "        -6.2905e-01, -2.1705e+00,  9.4603e-01, -1.2149e+00, -5.7891e-02,\n",
      "        -1.2374e+00,  2.5493e-01,  5.4575e-01, -1.3181e+00,  1.6607e-01,\n",
      "         7.9996e-01,  1.3128e+00, -2.0067e-01, -6.9207e-01,  9.2238e-01,\n",
      "        -5.7616e-02, -8.7595e-02, -3.3476e-01,  2.1060e+00,  6.5134e-01,\n",
      "        -1.9620e-01,  1.1147e+00, -6.1584e-01, -5.0599e-01, -2.6927e-01,\n",
      "         5.9063e-01, -1.3608e+00, -1.1067e+00,  1.3706e-01, -7.3397e-01,\n",
      "         1.1006e+00,  9.3594e-01, -3.7264e-01, -1.4044e+00, -1.8754e+00,\n",
      "        -1.5913e-01,  1.6737e+00,  2.7478e-01,  3.3417e-01, -9.0206e-01,\n",
      "         1.6307e-01,  1.9485e+00, -1.1782e-01,  7.0868e-01,  5.1570e-01,\n",
      "        -6.0923e-01,  1.7549e+00,  1.2489e+00,  1.5061e-01, -6.6063e-01,\n",
      "         1.2189e+00,  4.8084e-01,  1.3979e+00,  2.1301e-02, -6.4822e-01,\n",
      "        -3.9908e-01,  1.8541e-01, -2.6928e-01,  9.1452e-01, -7.5373e-01,\n",
      "        -7.8767e-01, -9.3991e-01,  8.8250e-01, -1.3147e+00,  4.4487e-01,\n",
      "        -2.3701e-01,  6.1855e-01,  5.2086e-01,  1.0107e+00, -1.3028e+00,\n",
      "         1.5681e+00,  8.2516e-01,  1.6183e-01,  3.1881e+00, -1.0694e+00,\n",
      "         3.3097e+00, -3.3197e-01, -2.8709e-01,  4.2347e-01,  6.9608e-01,\n",
      "        -9.6222e-01, -1.7360e+00,  4.3779e-01,  9.5030e-01,  2.6820e+00,\n",
      "        -4.1715e-01, -4.8423e-01,  5.5099e-01,  3.1425e-01, -1.3286e+00,\n",
      "         5.8951e-01, -3.4065e-01, -7.9620e-01, -6.1742e-01,  8.2508e-01,\n",
      "        -8.5323e-02, -1.7369e+00,  1.1526e+00,  2.6246e-01, -1.4951e-01,\n",
      "        -1.9181e-01, -9.9403e-01, -2.8850e-01,  1.4348e+00, -1.5592e+00,\n",
      "         1.1980e+00,  2.0536e-01,  4.8820e-01,  5.3412e-01, -5.4339e-01,\n",
      "        -6.8556e-01,  1.6529e+00,  7.8305e-01, -2.7551e-01,  2.5568e+00,\n",
      "        -1.2115e+00, -1.4688e+00,  1.6665e-01,  1.1562e+00, -1.7337e-01,\n",
      "         1.6139e+00, -4.4435e-02, -3.4327e-01, -1.0581e+00, -5.3026e-01,\n",
      "        -4.5389e-01,  6.1301e-01, -7.6562e-02, -5.6161e-01, -2.6845e-01,\n",
      "        -5.7834e-01, -8.5063e-01,  9.4425e-01,  4.3103e-01, -1.1144e+00,\n",
      "         4.1591e-01, -7.8799e-02, -7.7735e-01,  1.7900e+00,  3.1960e-01,\n",
      "         1.0614e+00,  4.3245e-02, -6.2713e-01, -4.5802e-01,  1.9610e-01,\n",
      "        -1.2182e+00,  6.8112e-01, -1.2400e+00,  7.1456e-01,  5.9479e-01,\n",
      "         2.0980e-01,  1.5521e+00,  1.7034e-01, -4.1987e-01, -6.3811e-01,\n",
      "         1.8510e+00, -2.6080e-01,  5.7583e-01, -4.9016e-01,  8.4112e-02,\n",
      "        -4.0297e-01, -1.7894e-01, -4.3189e-01, -3.8462e-01,  5.6546e-01,\n",
      "        -1.5080e+00, -9.6622e-01, -5.6860e-01,  7.7238e-01, -1.6596e+00,\n",
      "        -2.3322e-01,  9.4619e-01,  3.0226e-01, -3.1611e-01,  4.1146e-01,\n",
      "        -1.9335e-01, -1.2436e+00, -9.0758e-01, -5.7909e-01,  1.2459e+00,\n",
      "         4.5876e-01,  1.9772e+00, -1.2480e-01, -5.9185e-01, -5.7920e-01,\n",
      "         1.0036e+00, -1.1880e+00,  8.4540e-01,  6.8503e-01,  6.9781e-01,\n",
      "        -2.0177e+00,  4.5784e-01, -8.3509e-01,  1.1666e+00, -1.2800e+00,\n",
      "        -6.5507e-01, -1.9421e-01,  3.1740e-02,  8.3198e-01,  8.7571e-01,\n",
      "        -1.7540e+00,  8.0242e-02,  5.3762e-01,  5.6594e-01, -1.5176e-01,\n",
      "         8.8978e-01, -3.7346e-01, -8.6348e-01, -1.8986e+00,  9.7386e-01,\n",
      "         5.4354e-01,  6.5704e-01, -1.5584e+00, -9.9195e-01,  1.9461e-02,\n",
      "        -6.1496e-01,  1.9284e+00, -4.4536e-01,  1.3649e-01,  2.2164e-01,\n",
      "         1.1327e+00,  2.2028e-01,  2.2223e+00, -1.5960e+00,  9.3316e-01,\n",
      "        -1.6523e-01,  1.3775e+00, -5.4797e-01,  3.4999e-01, -1.4727e+00,\n",
      "        -6.1478e-03,  1.2021e+00,  1.4124e+00,  3.1741e-01,  1.1752e+00,\n",
      "         8.0458e-01,  5.9706e-01, -8.5710e-01, -2.2532e+00,  1.9955e-01,\n",
      "        -1.6196e+00, -8.8365e-01,  5.4423e-01, -1.5076e+00, -1.4770e+00,\n",
      "         1.1571e-01, -2.4704e-01,  1.6164e-01,  2.0863e-01, -1.2307e+00,\n",
      "        -8.1012e-01,  2.0097e-01,  1.3532e+00, -1.6390e+00,  1.4548e+00,\n",
      "         1.0987e+00, -8.3284e-02, -5.8058e-01, -1.0759e+00,  2.1121e+00,\n",
      "        -2.4728e+00,  1.1279e+00,  1.2640e-01,  1.6839e-01,  7.0378e-01,\n",
      "        -3.3118e-01,  8.9812e-01, -1.1488e+00,  5.4464e-01,  1.2375e-01,\n",
      "        -5.9026e-01, -1.4663e+00,  1.4883e-01, -2.3471e-02,  1.0049e+00,\n",
      "        -5.2506e-02, -1.3378e+00, -1.2808e-02, -6.9049e-01,  2.6383e-01,\n",
      "         1.8843e+00,  4.4574e-01, -4.3567e-01, -5.2911e-02, -1.0268e+00,\n",
      "         1.4754e+00, -3.4840e-01,  4.4017e-02,  1.7266e-01, -4.0027e-01,\n",
      "         2.3660e-01,  1.2680e+00, -5.2785e-01,  6.4049e-01, -4.7127e-01,\n",
      "        -7.1936e-01,  4.6160e-01, -3.4568e-01,  6.6566e-01, -2.3239e-01,\n",
      "         5.8039e-01,  9.1480e-01,  2.3934e+00, -2.2233e-01,  4.3160e-01,\n",
      "         4.8170e-01, -6.4746e-01, -4.1777e-01, -4.4309e-02, -1.2719e+00,\n",
      "        -8.1661e-01,  1.0515e+00,  7.2669e-01,  6.2421e-01,  4.8866e-01,\n",
      "        -9.7156e-01, -1.5062e+00, -4.3980e-01, -1.0271e+00, -6.8405e-01,\n",
      "        -6.9901e-01, -1.0693e+00,  8.1834e-01, -5.8164e-01, -4.3575e-01,\n",
      "        -8.6583e-01, -1.6984e-01,  1.5241e+00, -1.3483e-01, -8.4246e-01,\n",
      "         2.0680e+00,  1.5370e-01,  2.5730e-01, -1.7619e+00,  4.1998e-01,\n",
      "        -7.9270e-01,  1.5385e+00,  5.1629e-01,  1.5089e+00, -2.7364e+00,\n",
      "        -5.5244e-01, -1.4532e+00,  2.2236e+00, -1.1915e-01,  6.6756e-01,\n",
      "         9.7078e-01,  1.9596e+00, -8.8333e-01, -6.7432e-01,  9.4550e-01,\n",
      "        -2.0410e+00, -1.3167e+00,  2.8270e-01, -1.7526e+00, -6.7930e-02,\n",
      "         4.4387e-01,  2.0765e+00, -2.0278e+00, -1.2616e+00,  1.9953e+00,\n",
      "         9.0104e-01, -4.5243e-01, -2.2539e+00,  1.3631e-01, -6.8106e-01,\n",
      "         5.4943e-01, -7.2490e-01, -1.6816e+00, -1.3237e+00,  1.1157e+00,\n",
      "        -1.5556e+00,  1.7733e+00, -9.5101e-02,  7.7561e-01,  5.3252e-02,\n",
      "        -9.8963e-01, -5.7549e-03,  5.1364e-01, -7.1358e-01,  2.3021e-01,\n",
      "        -1.5252e-02,  4.0046e-01,  2.7511e-01, -5.0468e-01, -8.4963e-01,\n",
      "         1.5805e-02,  8.2689e-01,  1.5127e+00,  9.3975e-01, -2.8913e+00,\n",
      "        -4.0278e-01,  7.9322e-01, -9.8581e-01,  8.6182e-02, -6.0509e-02,\n",
      "         3.5087e-01,  1.1901e+00, -8.5084e-01, -4.0398e-01,  2.2192e-01,\n",
      "         5.2731e-01,  7.8200e-01, -1.1055e+00,  1.2067e+00, -6.1178e-01,\n",
      "         8.9808e-01, -8.8740e-01, -5.7029e-01,  1.8054e+00, -9.4759e-01,\n",
      "        -5.7898e-01, -7.2887e-02, -1.2411e-01,  4.9170e-01, -1.3866e+00,\n",
      "         7.9639e-01, -1.5823e+00, -8.7703e-01, -4.2585e-01, -3.5127e-01,\n",
      "        -4.6177e-01,  8.9556e-01, -6.5587e-01,  6.9439e-01,  3.1229e-01,\n",
      "         2.1575e+00,  1.9149e-01, -1.4611e+00,  9.8115e-01, -8.2347e-01,\n",
      "        -5.4438e-01,  9.7994e-02, -9.4723e-01, -9.9373e-06,  1.0614e-01,\n",
      "        -9.7999e-01,  7.4053e-01, -4.3227e-01, -9.2674e-01,  5.5926e-02,\n",
      "        -1.5890e+00, -5.6363e-01, -1.3591e+00,  1.3217e-01, -5.5354e-01,\n",
      "        -2.2870e-01, -1.4781e+00, -2.8282e-01,  2.1607e-01,  3.0466e-01,\n",
      "        -4.0469e-01,  7.3449e-01, -6.9580e-01, -9.8192e-01,  5.6793e-01,\n",
      "         1.7148e+00,  4.0255e-01,  4.0889e-01, -1.2370e+00,  1.0270e-01,\n",
      "         8.2935e-01,  2.8766e-01,  1.8584e+00, -2.3607e-01,  2.8546e+00,\n",
      "         3.6233e-01, -1.6271e-01, -9.3241e-01, -1.5750e+00, -1.0750e+00,\n",
      "        -4.8997e-01,  4.9641e-01,  9.2244e-01,  1.6699e+00,  1.1184e+00,\n",
      "         1.9385e+00,  2.0726e-01, -9.3821e-01, -1.3391e+00, -1.0005e+00,\n",
      "        -6.4473e-01, -1.0656e+00, -7.7072e-01,  7.2335e-01,  1.5815e+00,\n",
      "         1.6218e+00, -8.7705e-01, -1.8146e+00, -3.0506e-01, -4.5970e-01,\n",
      "         3.7589e-01, -1.4274e+00,  9.8821e-01, -4.0007e-01,  1.9866e-01,\n",
      "        -4.0154e-01,  7.6968e-01, -8.6054e-01, -2.0049e+00,  3.2246e-01,\n",
      "         2.1170e+00,  8.8163e-01,  1.2353e-01, -5.4072e-01,  6.1148e-01,\n",
      "        -4.7075e-01,  7.5817e-01, -9.1350e-01,  6.3295e-01, -4.5845e-01,\n",
      "         3.5470e-01,  9.2002e-01,  1.6339e+00, -6.6498e-02,  2.3497e+00,\n",
      "        -1.7705e+00,  9.6741e-01, -3.4314e-01, -1.2514e+00,  6.0299e-01,\n",
      "        -9.0428e-01,  3.9630e-01, -7.3255e-01, -1.2920e+00, -2.4036e+00,\n",
      "         2.1459e+00,  8.2742e-01, -1.6527e+00, -6.1724e-01, -3.9974e-01,\n",
      "         6.0447e-01,  1.5214e+00, -7.8134e-01, -2.8381e-01, -2.7311e-01,\n",
      "         6.9631e-01, -7.8288e-01, -2.1579e+00, -1.5675e+00, -5.4980e-01,\n",
      "        -8.7152e-02, -2.2791e+00,  3.2041e-01, -9.3146e-01,  4.7443e-01,\n",
      "        -1.1471e+00,  7.6374e-01,  3.9340e-02,  5.9030e-01,  9.1063e-01,\n",
      "         6.0033e-01,  1.0414e+00, -1.1131e+00, -9.1741e-01,  1.8541e-01,\n",
      "         1.8596e-01, -2.5622e-01, -1.6965e+00, -1.2946e-01, -6.1574e-01,\n",
      "         8.7070e-01,  7.6491e-01, -1.1327e+00,  1.9232e+00, -3.4549e-01,\n",
      "         1.5697e-01,  1.1005e+00,  1.0483e+00,  3.0927e-01,  8.1169e-02,\n",
      "        -1.1946e+00,  2.1058e-01,  3.1483e-01, -9.3305e-01,  2.1589e-01,\n",
      "        -1.1466e-01, -1.6818e+00, -1.3268e-01, -4.6897e-01, -1.0898e+00,\n",
      "         2.0133e-01, -3.9856e-02,  7.0434e-01,  1.1650e+00, -1.7257e-01,\n",
      "         4.5497e-01, -8.0113e-02,  2.8064e-01, -9.2418e-02,  4.3372e-01,\n",
      "        -1.2102e-01, -2.4189e-01,  3.8544e-01, -4.7539e-01,  1.3091e+00,\n",
      "        -8.8273e-01,  2.4938e-01, -6.7795e-01, -6.7661e-01, -3.0149e-01,\n",
      "        -2.0169e+00,  2.2972e+00,  1.4868e+00, -1.1850e+00,  6.2229e-01,\n",
      "         7.3282e-01,  4.9284e-01,  8.4327e-03, -9.6701e-02,  5.9396e-01,\n",
      "        -1.4237e+00, -2.5194e-02,  8.1893e-01, -2.3434e+00, -1.2358e+00,\n",
      "        -1.5025e+00,  1.1330e+00, -2.5756e-01, -9.6589e-01,  1.7952e+00,\n",
      "         1.0192e+00, -9.0393e-01, -5.1400e-01, -1.0130e+00,  1.2217e+00,\n",
      "        -8.9200e-02, -7.8127e-01, -1.4645e-01,  6.8851e-01,  4.6681e-01,\n",
      "        -1.4673e+00,  2.6706e-01,  5.4884e-01, -4.4521e-02,  2.7463e-01,\n",
      "         1.0520e+00, -1.4207e+00, -6.3547e-01,  2.2312e+00,  1.3060e+00,\n",
      "         3.9937e-01, -4.7436e-01,  5.0637e-02, -5.5737e-01, -1.0653e+00,\n",
      "         6.8810e-01,  4.7427e-01,  8.9127e-01, -2.5819e-01, -2.1621e+00,\n",
      "        -1.6362e-01,  9.1527e-01, -8.4411e-01,  1.8372e+00,  9.7697e-02,\n",
      "         1.9553e+00,  1.5352e-01,  1.7172e-01,  1.2633e+00, -1.7319e+00,\n",
      "        -6.7925e-01,  4.9578e-01, -1.7997e-01,  1.5764e-02,  1.0036e+00,\n",
      "        -1.2126e+00, -1.5430e+00,  5.3654e-01, -8.9881e-01, -6.4952e-01,\n",
      "        -4.9971e-01,  6.5170e-01, -1.7728e+00,  9.0087e-01, -6.2319e-02,\n",
      "         1.6855e-01, -6.0371e-01,  7.4061e-01,  8.9946e-01,  1.8094e-01,\n",
      "         1.1866e+00, -8.7046e-01, -1.7456e+00,  1.9011e+00,  1.4822e+00,\n",
      "        -2.8739e-01, -2.2972e+00, -5.8383e-01, -3.0261e-01,  3.6373e-02,\n",
      "         9.7641e-01,  2.8273e+00,  1.4807e+00, -8.0914e-01, -6.6155e-01,\n",
      "         7.4628e-01,  2.9922e-01,  2.1711e-01, -4.8168e-01,  4.3358e-01,\n",
      "         4.9314e-02, -1.9894e+00,  2.8113e-01, -1.5726e+00, -1.7117e-01,\n",
      "         6.5279e-01, -1.6722e+00, -3.7576e-01,  1.0780e-02,  4.9199e-01,\n",
      "         2.8435e-01, -3.6017e-01, -1.2344e-01, -8.1369e-01,  1.5146e+00,\n",
      "         1.8622e+00, -1.0635e+00,  2.6885e-01,  7.8717e-01,  6.6622e-01,\n",
      "         1.7280e-01,  1.7731e-01, -1.2092e+00, -5.3958e-01, -8.4730e-01,\n",
      "         7.4787e-01,  2.9070e+00, -7.6011e-02,  7.5704e-01,  2.0603e+00,\n",
      "         4.5457e-01,  2.8904e-01,  5.2994e-01,  4.8070e-01, -1.8563e-01,\n",
      "        -4.8399e-01, -1.1172e+00,  5.7440e-01, -1.3630e+00, -7.4243e-01,\n",
      "         3.2260e-02, -5.9925e-01, -2.3405e+00,  2.2908e-01, -9.7239e-01,\n",
      "         1.9190e+00,  2.6744e-01, -1.8907e+00, -1.4989e+00, -2.8580e-01,\n",
      "         9.7667e-01, -2.6132e-01, -1.2598e+00, -6.5091e-01,  1.9860e+00,\n",
      "        -1.3604e+00,  6.6566e-01,  4.0999e-01,  2.8215e-01, -1.1148e+00,\n",
      "        -1.3216e+00, -6.1941e-02,  1.1661e+00, -3.5206e-01], device='cuda:0',\n",
      "       grad_fn=<ToCopyBackward0>)\n"
     ]
    },
    {
     "data": {
      "text/plain": [
       "<matplotlib.image.AxesImage at 0x16b378d3440>"
      ]
     },
     "execution_count": 35,
     "metadata": {},
     "output_type": "execute_result"
    },
    {
     "data": {
      "image/png": "[encoded data removed]",
      "text/plain": [
       "<Figure size 480x480 with 1 Axes>"
      ]
     },
     "metadata": {},
     "output_type": "display_data"
    }
   ],
   "source": [
    "plt.matshow(generate_data_point(dae,28*28,100000).view(28, 28).detach().cpu().numpy())"
   ]
  },
  {
   "cell_type": "code",
   "execution_count": null,
   "metadata": {},
   "outputs": [
    {
     "data": {
      "text/plain": [
       "<matplotlib.image.AxesImage at 0x2a323935d30>"
      ]
     },
     "execution_count": 52,
     "metadata": {},
     "output_type": "execute_result"
    },
    {
     "data": {
      "image/png": "[encoded data removed]",
      "text/plain": [
       "<Figure size 480x480 with 1 Axes>"
      ]
     },
     "metadata": {},
     "output_type": "display_data"
    }
   ],
   "source": [
    "img,l=dataset[0]\n",
    "noise=img.to(DEVICE) + torch.randn(img.size()).to(DEVICE)\n",
    "latent,recon=cae(noise.view(-1,28*28))\n",
    "plt.matshow(recon.view(28, 28).detach().cpu().numpy())"
   ]
  },
  {
   "cell_type": "code",
   "execution_count": null,
   "metadata": {},
   "outputs": [
    {
     "data": {
      "text/plain": [
       "<matplotlib.image.AxesImage at 0x2a3086c7f20>"
      ]
     },
     "execution_count": 49,
     "metadata": {},
     "output_type": "execute_result"
    },
    {
     "data": {
      "image/png": "[encoded data removed]",
      "text/plain": [
       "<Figure size 480x480 with 1 Axes>"
      ]
     },
     "metadata": {},
     "output_type": "display_data"
    }
   ],
   "source": [
    "plt.matshow(img.view(28,28).detach().cpu().numpy())"
   ]
  }
 ],
 "metadata": {
  "kernelspec": {
   "display_name": "Python 3",
   "language": "python",
   "name": "python3"
  },
  "language_info": {
   "codemirror_mode": {
    "name": "ipython",
    "version": 3
   },
   "file_extension": ".py",
   "mimetype": "text/x-python",
   "name": "python",
   "nbconvert_exporter": "python",
   "pygments_lexer": "ipython3",
   "version": "3.12.3"
  }
 },
 "nbformat": 4,
 "nbformat_minor": 2
}
