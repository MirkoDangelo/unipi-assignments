{
 "cells": [
  {
   "cell_type": "markdown",
   "metadata": {},
   "source": [
    "# Mirko Michele D'Angelo - Assignment 3\n",
    "\n",
    "First we load the data of the MNIST dataset, both training and test sets."
   ]
  },
  {
   "cell_type": "code",
   "execution_count": 30,
   "metadata": {},
   "outputs": [],
   "source": [
    "import matplotlib.pyplot as plt\n",
    "import numpy as np\n",
    "import idx2numpy\n",
    "#load training images\n",
    "tr_images=idx2numpy.convert_from_file('./dataset/train-images.idx3-ubyte')\n",
    "tr_labels=idx2numpy.convert_from_file('./dataset/train-labels.idx1-ubyte')\n",
    "#load test images\n",
    "ts_images=idx2numpy.convert_from_file('./dataset/t10k-images.idx3-ubyte')\n",
    "ts_labels=idx2numpy.convert_from_file('./dataset/t10k-labels.idx1-ubyte')"
   ]
  },
  {
   "cell_type": "markdown",
   "metadata": {},
   "source": [
    "# Implementation\n",
    "First we implement our RBM along the CD-1 training algorithm using the methods implementation of the RBM class below:\n",
    "- The __ __init__ __ constructor wll just initialize the values used for the biases and weights, in particulare the weights are initialized according to [this paper](http://www.cs.toronto.edu/%7Ehinton/absps/guideTR.pdf) with a gaussian distribution $N(0,0.01)$ the same goes for the hidden biases with a value of 0.\n",
    "- __sample_hidden__ and __sample_visible__ implement for the corrisponding operation of sampling $h$ given $v$ and sampling $v$ given $h$.\n",
    "- the __train__ method implements the actual training using the CD-1 algorithm with minibatch and MSE as a loss function to monitor the reconstruction error.\n",
    "- the __encode__ method allows us to get the activations of hidden units and use them to encode data.\n",
    "- the __reconstruct__ method allows us to reconstsruct the data it is passed as argurment.\n",
    "- also a simple sigmoid implementation and a utility sampling method are used to implement the other methods in the class."
   ]
  },
  {
   "cell_type": "code",
   "execution_count": 31,
   "metadata": {},
   "outputs": [],
   "source": [
    "class RBM:\n",
    "    def __init__(self,visible_size,hidden_size):\n",
    "        self.visible_bias= np.zeros(visible_size,dtype='longdouble')\n",
    "        self.hidden_bias= np.zeros(hidden_size,dtype='longdouble')\n",
    "\n",
    "        self.weights=np.random.normal(scale=0.01,size=(visible_size,hidden_size))\n",
    "        print(f\"buildinig a RBM with {visible_size} visible units and {hidden_size} hidden units\")\n",
    "    def _sigmoid(self,x):\n",
    "        return 1/(1+np.exp(-x))\n",
    "    def _sample(self,prob):\n",
    "        return (prob > np.random.rand(*prob.shape)).astype(np.longdouble)\n",
    "    def sample_hidden(self,v):\n",
    "        ha_prob= self._sigmoid(v@self.weights+self.hidden_bias)\n",
    "        ha_states= self._sample(ha_prob)\n",
    "        return ha_prob,ha_states\n",
    "    def sample_visible(self,h):\n",
    "        recon_prob= self._sigmoid(h@self.weights.T+self.visible_bias)\n",
    "        recon_act= self._sample(recon_prob)\n",
    "        return recon_prob,recon_act\n",
    "\n",
    "    def train(self,values,eta=0.01,epochs=100,batch_size=64):\n",
    "        print(f\"training over {values.shape[0]} samples with {values.shape[1]} features \\nepochs={epochs}\\t batch size={batch_size}\\t learning rate={eta}\")\n",
    "        for e in range(epochs):\n",
    "            for i in range(0,values.shape[0],batch_size):\n",
    "                # clamp data as input\n",
    "                clamped_data= values[i:i+batch_size]\n",
    "                #sample h given v\n",
    "                ha_prob,ha_states=self.sample_hidden(clamped_data)\n",
    "                #calculate wake part\n",
    "                wake=clamped_data.T@ha_prob\n",
    "                #sample v given h\n",
    "                recon_prob,recon_act=self.sample_visible(ha_states)\n",
    "                active_prob=self._sigmoid(recon_act@self.weights+ self.hidden_bias)\n",
    "                #calculate dream part\n",
    "                dream=recon_act.T@active_prob\n",
    "                delta_w=(wake-dream)/batch_size\n",
    "                delta_bh = (np.mean(ha_prob-active_prob, axis=0))\n",
    "                delta_bv = (np.mean(clamped_data-recon_act, axis=0))\n",
    "\n",
    "                self.weights+=eta*delta_w\n",
    "                self.hidden_bias+=eta*delta_bh\n",
    "                self.visible_bias+=eta*delta_bv\n",
    "            clamped_data= values\n",
    "            \"\"\" ha_prob,ha_states=self.sample_hidden(clamped_data)\n",
    "            recon_prob,recon_act=self.sample_visible(ha_states) \"\"\"\n",
    "            recon_act= self.reconstruct(clamped_data)\n",
    "            print(f\"epoch no.{e+1} reconstruction error: {np.mean((clamped_data-recon_act)**2)}\")\n",
    "    def reconstruct(self,data):\n",
    "        _,ha_states=self.sample_hidden(data)\n",
    "        recon_prob,recon_act=self.sample_visible(ha_states)\n",
    "        return recon_act\n",
    "    def encode(self,data):\n",
    "        #sample h given v\n",
    "        _,ha_states=self.sample_hidden(data)\n",
    "        print(f\"{ha_states.shape[0]} samples encoded with {ha_states.shape[1]} hidden units\")\n",
    "        return ha_states"
   ]
  },
  {
   "cell_type": "markdown",
   "metadata": {},
   "source": [
    "## RBM training\n",
    "Now we train the RBM, first the data from mnist dataset is flattened from a $(28 \\times 28)$ matrix of integers between 0 and 255 to an array of 768 integers.\n",
    "After the flattening binarization is applied with a threshold of 127 to get values that are either 0 or 1.\n",
    "\n",
    "The reason for the flattening is just to be able to feed it into the rbm while the binarization is useful since it allows the contrastive divergence algorithm to properly work."
   ]
  },
  {
   "cell_type": "code",
   "execution_count": 33,
   "metadata": {},
   "outputs": [],
   "source": [
    "def flatten_and_binarize(images):\n",
    "    threshold=np.random.rand(*images.shape)\n",
    "    return (images>threshold).reshape((-1,28*28)).astype(np.int32)"
   ]
  },
  {
   "cell_type": "code",
   "execution_count": 34,
   "metadata": {},
   "outputs": [
    {
     "name": "stdout",
     "output_type": "stream",
     "text": [
      "buildinig a RBM with 784 visible units and 50 hidden units\n"
     ]
    },
    {
     "name": "stderr",
     "output_type": "stream",
     "text": [
      "C:\\Users\\katyg\\AppData\\Local\\Temp\\ipykernel_14052\\3893341065.py:7: RuntimeWarning: divide by zero encountered in log\n",
      "  rbm.visible_bias=np.log(visible_active_prob/(1-visible_active_prob))\n"
     ]
    },
    {
     "name": "stdout",
     "output_type": "stream",
     "text": [
      "training over 60000 samples with 784 features \n",
      "epochs=10\t batch size=10\t learning rate=0.01\n",
      "epoch no.1 reconstruction error: 0.10955958758503401\n",
      "epoch no.2 reconstruction error: 0.09596488095238095\n",
      "epoch no.3 reconstruction error: 0.09018675595238096\n",
      "epoch no.4 reconstruction error: 0.08686505102040816\n",
      "epoch no.5 reconstruction error: 0.08476315901360544\n",
      "epoch no.6 reconstruction error: 0.08320625\n",
      "epoch no.7 reconstruction error: 0.08188552295918368\n",
      "epoch no.8 reconstruction error: 0.0809280612244898\n",
      "epoch no.9 reconstruction error: 0.08029713010204081\n",
      "epoch no.10 reconstruction error: 0.07974330357142857\n"
     ]
    }
   ],
   "source": [
    "rbm=RBM(28*28,50)\n",
    "\n",
    "training=flatten_and_binarize(tr_images)\n",
    "\n",
    "visible_active_prob=np.mean(training,axis=0)\n",
    "\n",
    "rbm.visible_bias=np.log(visible_active_prob/(1-visible_active_prob))\n",
    "maxv=max(rbm.visible_bias[np.isfinite(rbm.visible_bias)])\n",
    "minv=min(rbm.visible_bias[np.isfinite(rbm.visible_bias)])\n",
    "rbm.visible_bias=np.clip(rbm.visible_bias,minv,maxv)\n",
    "rbm.train(training,\n",
    "          eta=0.01,\n",
    "          epochs=10,\n",
    "          batch_size=10\n",
    "          )"
   ]
  },
  {
   "cell_type": "markdown",
   "metadata": {},
   "source": [
    "The same treatment also goes for the test set."
   ]
  },
  {
   "cell_type": "code",
   "execution_count": 35,
   "metadata": {},
   "outputs": [],
   "source": [
    "test=flatten_and_binarize(ts_images)\n"
   ]
  },
  {
   "cell_type": "markdown",
   "metadata": {},
   "source": [
    "## getting binary activations\n",
    "Using the encode method i can encode both training and test set of images using the hidden states activations."
   ]
  },
  {
   "cell_type": "markdown",
   "metadata": {},
   "source": [
    "First we encode both training and test images using our RBM."
   ]
  },
  {
   "cell_type": "code",
   "execution_count": 36,
   "metadata": {},
   "outputs": [
    {
     "name": "stdout",
     "output_type": "stream",
     "text": [
      "60000 samples encoded with 50 hidden units\n",
      "10000 samples encoded with 50 hidden units\n"
     ]
    }
   ],
   "source": [
    "h_train=rbm.encode(training)\n",
    "h_test=rbm.encode(test)"
   ]
  },
  {
   "cell_type": "markdown",
   "metadata": {},
   "source": [
    "## results\n"
   ]
  },
  {
   "cell_type": "markdown",
   "metadata": {},
   "source": [
    "## classifers confrontation"
   ]
  },
  {
   "cell_type": "markdown",
   "metadata": {},
   "source": [
    "Now we can confront the difference between using the normal MNIST dataset and its correspondent activation.\n",
    "\n",
    "To make this confrontation i decided to use the f-score,acuracy and recall metric with a heatmap to checck the model generalization capabilities on the test set.\n",
    "\n",
    "The model i decided to use is a linear SVM, the reason for the SVM is to see the difference between training on high dimensional data and then using the hidden activations."
   ]
  },
  {
   "cell_type": "code",
   "execution_count": 38,
   "metadata": {},
   "outputs": [
    {
     "name": "stderr",
     "output_type": "stream",
     "text": [
      "C:\\Users\\katyg\\AppData\\Local\\Packages\\PythonSoftwareFoundation.Python.3.10_qbz5n2kfra8p0\\LocalCache\\local-packages\\Python310\\site-packages\\sklearn\\svm\\_classes.py:31: FutureWarning: The default value of `dual` will change from `True` to `'auto'` in 1.5. Set the value of `dual` explicitly to suppress the warning.\n",
      "  warnings.warn(\n",
      "C:\\Users\\katyg\\AppData\\Local\\Packages\\PythonSoftwareFoundation.Python.3.10_qbz5n2kfra8p0\\LocalCache\\local-packages\\Python310\\site-packages\\sklearn\\svm\\_base.py:1237: ConvergenceWarning: Liblinear failed to converge, increase the number of iterations.\n",
      "  warnings.warn(\n",
      "C:\\Users\\katyg\\AppData\\Local\\Packages\\PythonSoftwareFoundation.Python.3.10_qbz5n2kfra8p0\\LocalCache\\local-packages\\Python310\\site-packages\\sklearn\\metrics\\_classification.py:1509: UndefinedMetricWarning: Precision is ill-defined and being set to 0.0 in labels with no predicted samples. Use `zero_division` parameter to control this behavior.\n",
      "  _warn_prf(average, modifier, f\"{metric.capitalize()} is\", len(result))\n"
     ]
    },
    {
     "name": "stdout",
     "output_type": "stream",
     "text": [
      "results of training on raw data \n",
      " precision=30.16% recall=14.07% f-score=8.32%\n"
     ]
    },
    {
     "data": {
      "image/png": "[encoded data removed]",
      "text/plain": [
       "<Figure size 640x480 with 2 Axes>"
      ]
     },
     "metadata": {},
     "output_type": "display_data"
    }
   ],
   "source": [
    "from sklearn.calibration import LinearSVC\n",
    "from sklearn.linear_model import LogisticRegression, RidgeClassifier\n",
    "from sklearn.metrics import accuracy_score, confusion_matrix, f1_score, precision_recall_fscore_support\n",
    "import seaborn as sns\n",
    "#raw training with the original values\n",
    "mlp=LinearSVC().fit(tr_images.reshape((-1,28*28)),tr_labels) \n",
    "pred=mlp.predict(test)\n",
    "sns.heatmap(confusion_matrix(ts_labels,pred),annot=True,annot_kws={\"size\": 8},fmt='d')\n",
    "precision,recall,fscore,_=precision_recall_fscore_support(ts_labels,pred,average='macro')\n",
    "print(f\"results of training on raw data \\n precision={100*precision:.2f}% recall={100*recall:.2f}% f-score={100*fscore:.2f}%\")\n"
   ]
  },
  {
   "cell_type": "markdown",
   "metadata": {},
   "source": [
    "Now we can use our encoded dataset to train the model and see if generalization capabilities have enhanced."
   ]
  },
  {
   "cell_type": "code",
   "execution_count": 39,
   "metadata": {},
   "outputs": [
    {
     "name": "stderr",
     "output_type": "stream",
     "text": [
      "C:\\Users\\katyg\\AppData\\Local\\Packages\\PythonSoftwareFoundation.Python.3.10_qbz5n2kfra8p0\\LocalCache\\local-packages\\Python310\\site-packages\\sklearn\\svm\\_classes.py:31: FutureWarning: The default value of `dual` will change from `True` to `'auto'` in 1.5. Set the value of `dual` explicitly to suppress the warning.\n",
      "  warnings.warn(\n"
     ]
    },
    {
     "name": "stdout",
     "output_type": "stream",
     "text": [
      "results of training on hidden activations encoding \n",
      " precision=87.92% recall=87.75% f-score=87.74%\n"
     ]
    },
    {
     "data": {
      "image/png": "[encoded data removed]",
      "text/plain": [
       "<Figure size 640x480 with 2 Axes>"
      ]
     },
     "metadata": {},
     "output_type": "display_data"
    }
   ],
   "source": [
    "# training on encoded values\n",
    "mlp=LinearSVC().fit(h_train,tr_labels)\n",
    "pred=mlp.predict(h_test)\n",
    "sns.heatmap(confusion_matrix(ts_labels,pred),annot=True,annot_kws={\"size\": 8},fmt='d')\n",
    "precision,recall,fscore,_=precision_recall_fscore_support(ts_labels,pred,average='macro')\n",
    "print(f\"results of training on hidden activations encoding \\n precision={100*precision:.2f}% recall={100*recall:.2f}% f-score={100*fscore:.2f}%\")"
   ]
  },
  {
   "cell_type": "markdown",
   "metadata": {},
   "source": [
    "As we can see the improvement is great and gives us a very high f-score of 90%.\n",
    "\n",
    "Now we evaluate if more flexible models will get any sort of enhacement by using the hidden activations instead of the normal MNIST dataset. For this second attempt i decided to use a LogisticRegression that is more flexible and adapts easier to data so it should have better results even on the original data. "
   ]
  },
  {
   "cell_type": "code",
   "execution_count": 41,
   "metadata": {},
   "outputs": [
    {
     "name": "stderr",
     "output_type": "stream",
     "text": [
      "C:\\Users\\katyg\\AppData\\Local\\Packages\\PythonSoftwareFoundation.Python.3.10_qbz5n2kfra8p0\\LocalCache\\local-packages\\Python310\\site-packages\\sklearn\\linear_model\\_logistic.py:469: ConvergenceWarning: lbfgs failed to converge (status=1):\n",
      "STOP: TOTAL NO. of ITERATIONS REACHED LIMIT.\n",
      "\n",
      "Increase the number of iterations (max_iter) or scale the data as shown in:\n",
      "    https://scikit-learn.org/stable/modules/preprocessing.html\n",
      "Please also refer to the documentation for alternative solver options:\n",
      "    https://scikit-learn.org/stable/modules/linear_model.html#logistic-regression\n",
      "  n_iter_i = _check_optimize_result(\n"
     ]
    },
    {
     "name": "stdout",
     "output_type": "stream",
     "text": [
      "raw 0.9051689447694169\n"
     ]
    },
    {
     "name": "stderr",
     "output_type": "stream",
     "text": [
      "C:\\Users\\katyg\\AppData\\Local\\Packages\\PythonSoftwareFoundation.Python.3.10_qbz5n2kfra8p0\\LocalCache\\local-packages\\Python310\\site-packages\\sklearn\\linear_model\\_logistic.py:469: ConvergenceWarning: lbfgs failed to converge (status=1):\n",
      "STOP: TOTAL NO. of ITERATIONS REACHED LIMIT.\n",
      "\n",
      "Increase the number of iterations (max_iter) or scale the data as shown in:\n",
      "    https://scikit-learn.org/stable/modules/preprocessing.html\n",
      "Please also refer to the documentation for alternative solver options:\n",
      "    https://scikit-learn.org/stable/modules/linear_model.html#logistic-regression\n",
      "  n_iter_i = _check_optimize_result(\n"
     ]
    },
    {
     "name": "stdout",
     "output_type": "stream",
     "text": [
      "binarized 0.9168652718172394\n",
      "encoded 0.888063055032539\n"
     ]
    },
    {
     "name": "stderr",
     "output_type": "stream",
     "text": [
      "C:\\Users\\katyg\\AppData\\Local\\Packages\\PythonSoftwareFoundation.Python.3.10_qbz5n2kfra8p0\\LocalCache\\local-packages\\Python310\\site-packages\\sklearn\\linear_model\\_logistic.py:469: ConvergenceWarning: lbfgs failed to converge (status=1):\n",
      "STOP: TOTAL NO. of ITERATIONS REACHED LIMIT.\n",
      "\n",
      "Increase the number of iterations (max_iter) or scale the data as shown in:\n",
      "    https://scikit-learn.org/stable/modules/preprocessing.html\n",
      "Please also refer to the documentation for alternative solver options:\n",
      "    https://scikit-learn.org/stable/modules/linear_model.html#logistic-regression\n",
      "  n_iter_i = _check_optimize_result(\n"
     ]
    }
   ],
   "source": [
    "from sklearn.metrics import accuracy_score, confusion_matrix, f1_score\n",
    "#raw training with values\n",
    "mlp=LogisticRegression().fit(tr_images.reshape((-1,28*28)),tr_labels)\n",
    "pred=mlp.predict(test)\n",
    "print(f\"raw {f1_score(ts_labels,pred,average='macro')}\")\n",
    "mlp=LogisticRegression().fit(training,tr_labels)\n",
    "pred=mlp.predict(test)\n",
    "print(f\"binarized {f1_score(ts_labels,pred,average='macro')}\")\n",
    "# training on encoded values\n",
    "mlp=LogisticRegression().fit(h_train,tr_labels)\n",
    "h_pred=mlp.predict(h_test)\n",
    "print(f\"encoded {f1_score(ts_labels,h_pred,average='macro')}\")"
   ]
  },
  {
   "cell_type": "code",
   "execution_count": 43,
   "metadata": {},
   "outputs": [
    {
     "name": "stdout",
     "output_type": "stream",
     "text": [
      "0.6364\n",
      "0.646\n"
     ]
    },
    {
     "data": {
      "text/plain": [
       "0.7086"
      ]
     },
     "execution_count": 43,
     "metadata": {},
     "output_type": "execute_result"
    }
   ],
   "source": [
    "from sklearn.ensemble import RandomForestClassifier\n",
    "from sklearn.datasets import make_classification\n",
    "\n",
    "clf = RandomForestClassifier(max_depth=2, random_state=0).fit(tr_images.reshape((-1,28*28)),tr_labels)\n",
    "pred=clf.predict(ts_images.reshape((-1,28*28)))\n",
    "print(f1_score(ts_labels,pred,average=\"micro\"))\n",
    "clf = RandomForestClassifier(max_depth=2, random_state=0).fit(training,tr_labels)\n",
    "pred=clf.predict(test)\n",
    "print(f1_score(ts_labels,pred,average=\"micro\"))\n",
    "clf = RandomForestClassifier(max_depth=2, random_state=0).fit(h_train,tr_labels)\n",
    "pred=clf.predict(h_test)\n",
    "f1_score(ts_labels,pred,average=\"micro\")\n"
   ]
  },
  {
   "cell_type": "markdown",
   "metadata": {},
   "source": [
    "In this case case we still have a gain on the f-score, but only by 2%."
   ]
  },
  {
   "cell_type": "markdown",
   "metadata": {},
   "source": [
    "## final considerations\n",
    "\n",
    "RBMs are good model that has the capability of learning representations from data, it offers a nice dimensionality reduction that lets use simpler models to achieve good results.\n",
    "However they can be costly to train when we have a lot of data and we use a lot of hidden activations the trainig time increases significantly and might make too costly,also it is not easy to interpret the learned representations.\n"
   ]
  }
 ],
 "metadata": {
  "kernelspec": {
   "display_name": "Python 3",
   "language": "python",
   "name": "python3"
  },
  "language_info": {
   "codemirror_mode": {
    "name": "ipython",
    "version": 3
   },
   "file_extension": ".py",
   "mimetype": "text/x-python",
   "name": "python",
   "nbconvert_exporter": "python",
   "pygments_lexer": "ipython3",
   "version": "3.10.11"
  }
 },
 "nbformat": 4,
 "nbformat_minor": 2
}
